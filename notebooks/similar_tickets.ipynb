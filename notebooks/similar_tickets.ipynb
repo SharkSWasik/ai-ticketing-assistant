{
 "cells": [
  {
   "cell_type": "markdown",
   "metadata": {},
   "source": [
    "# <font color='red'>1 - </font> Getting Data"
   ]
  },
  {
   "cell_type": "code",
   "execution_count": 2,
   "metadata": {},
   "outputs": [],
   "source": [
    "path = \"../dataset/data/\""
   ]
  },
  {
   "cell_type": "code",
   "execution_count": 65,
   "metadata": {},
   "outputs": [
    {
     "name": "stdout",
     "output_type": "stream",
     "text": [
      "../dataset/data/aa_dataset-tickets-multi-lang-5-2-50-version.csv\n",
      "../dataset/data/dataset-tickets-german_normalized.csv\n",
      "../dataset/data/dataset-tickets-german_normalized_50_5_2.csv\n",
      "../dataset/data/dataset-tickets-multi-lang-4-20k.csv\n",
      "../dataset/data/dataset-tickets-multi-lang3-4k.csv\n"
     ]
    },
    {
     "data": {
      "text/html": [
       "<div>\n",
       "<style scoped>\n",
       "    .dataframe tbody tr th:only-of-type {\n",
       "        vertical-align: middle;\n",
       "    }\n",
       "\n",
       "    .dataframe tbody tr th {\n",
       "        vertical-align: top;\n",
       "    }\n",
       "\n",
       "    .dataframe thead th {\n",
       "        text-align: right;\n",
       "    }\n",
       "</style>\n",
       "<table border=\"1\" class=\"dataframe\">\n",
       "  <thead>\n",
       "    <tr style=\"text-align: right;\">\n",
       "      <th></th>\n",
       "      <th>subject</th>\n",
       "      <th>body</th>\n",
       "      <th>answer</th>\n",
       "      <th>type</th>\n",
       "      <th>queue</th>\n",
       "      <th>priority</th>\n",
       "      <th>language</th>\n",
       "      <th>business_type</th>\n",
       "      <th>tag_1</th>\n",
       "      <th>tag_2</th>\n",
       "      <th>tag_3</th>\n",
       "      <th>tag_4</th>\n",
       "      <th>tag_5</th>\n",
       "      <th>tag_6</th>\n",
       "      <th>tag_7</th>\n",
       "      <th>tag_8</th>\n",
       "      <th>tag_9</th>\n",
       "    </tr>\n",
       "  </thead>\n",
       "  <tbody>\n",
       "    <tr>\n",
       "      <th>0</th>\n",
       "      <td>Problema crítico del servidor requiere atenció...</td>\n",
       "      <td>Es necesaria una investigación inmediata sobre...</td>\n",
       "      <td>Estamos investigando urgentemente el problema ...</td>\n",
       "      <td>Incident</td>\n",
       "      <td>Technical Support</td>\n",
       "      <td>high</td>\n",
       "      <td>es</td>\n",
       "      <td>IT Services</td>\n",
       "      <td>Urgent Issue</td>\n",
       "      <td>Service Disruption</td>\n",
       "      <td>Incident Report</td>\n",
       "      <td>Service Recovery</td>\n",
       "      <td>System Maintenance</td>\n",
       "      <td></td>\n",
       "      <td></td>\n",
       "      <td></td>\n",
       "      <td></td>\n",
       "    </tr>\n",
       "    <tr>\n",
       "      <th>1</th>\n",
       "      <td>Anfrage zur Verfügbarkeit des Dell XPS 13 9310</td>\n",
       "      <td>Sehr geehrter Kundenservice,\\n\\nich hoffe, die...</td>\n",
       "      <td>Sehr geehrter &lt;name&gt;,\\n\\nvielen Dank, dass Sie...</td>\n",
       "      <td>Request</td>\n",
       "      <td>Customer Service</td>\n",
       "      <td>low</td>\n",
       "      <td>de</td>\n",
       "      <td>Tech Online Store</td>\n",
       "      <td>Sales Inquiry</td>\n",
       "      <td>Product Support</td>\n",
       "      <td>Customer Service</td>\n",
       "      <td>Order Issue</td>\n",
       "      <td>Returns and Exchanges</td>\n",
       "      <td></td>\n",
       "      <td></td>\n",
       "      <td></td>\n",
       "      <td></td>\n",
       "    </tr>\n",
       "    <tr>\n",
       "      <th>2</th>\n",
       "      <td>Erro na Autocompletação de Código do IntelliJ ...</td>\n",
       "      <td>Prezado Suporte ao Cliente &lt;name&gt;,\\n\\nEstou es...</td>\n",
       "      <td>Prezado &lt;name&gt;,\\n\\nObrigado por entrar em cont...</td>\n",
       "      <td>Incident</td>\n",
       "      <td>Technical Support</td>\n",
       "      <td>high</td>\n",
       "      <td>pt</td>\n",
       "      <td>IT Services</td>\n",
       "      <td>Technical Support</td>\n",
       "      <td>Software Bug</td>\n",
       "      <td>Problem Resolution</td>\n",
       "      <td>Urgent Issue</td>\n",
       "      <td>IT Support</td>\n",
       "      <td></td>\n",
       "      <td></td>\n",
       "      <td></td>\n",
       "      <td></td>\n",
       "    </tr>\n",
       "    <tr>\n",
       "      <th>3</th>\n",
       "      <td>Urgent Assistance Required: AWS Service</td>\n",
       "      <td>Dear IT Services Support Team, \\n\\nI am reachi...</td>\n",
       "      <td>Dear &lt;name&gt;,\\n\\nThank you for reaching out reg...</td>\n",
       "      <td>Request</td>\n",
       "      <td>IT Support</td>\n",
       "      <td>high</td>\n",
       "      <td>en</td>\n",
       "      <td>IT Services</td>\n",
       "      <td>IT Support</td>\n",
       "      <td>Urgent Issue</td>\n",
       "      <td>Service Notification</td>\n",
       "      <td>Cloud Services</td>\n",
       "      <td>Problem Resolution</td>\n",
       "      <td>Technical Guidance</td>\n",
       "      <td>Performance Tuning</td>\n",
       "      <td></td>\n",
       "      <td></td>\n",
       "    </tr>\n",
       "    <tr>\n",
       "      <th>4</th>\n",
       "      <td>Problème d'affichage de MacBook Air</td>\n",
       "      <td>Cher équipe de support du magasin en ligne Tec...</td>\n",
       "      <td>Cher &lt;name&gt;,\\n\\nMerci de nous avoir contactés ...</td>\n",
       "      <td>Incident</td>\n",
       "      <td>Product Support</td>\n",
       "      <td>low</td>\n",
       "      <td>fr</td>\n",
       "      <td>Tech Online Store</td>\n",
       "      <td>Technical Support</td>\n",
       "      <td>Product Support</td>\n",
       "      <td>Hardware Failure</td>\n",
       "      <td>Service Recovery</td>\n",
       "      <td>Routine Request</td>\n",
       "      <td></td>\n",
       "      <td></td>\n",
       "      <td></td>\n",
       "      <td></td>\n",
       "    </tr>\n",
       "  </tbody>\n",
       "</table>\n",
       "</div>"
      ],
      "text/plain": [
       "                                             subject  \\\n",
       "0  Problema crítico del servidor requiere atenció...   \n",
       "1     Anfrage zur Verfügbarkeit des Dell XPS 13 9310   \n",
       "2  Erro na Autocompletação de Código do IntelliJ ...   \n",
       "3            Urgent Assistance Required: AWS Service   \n",
       "4                Problème d'affichage de MacBook Air   \n",
       "\n",
       "                                                body  \\\n",
       "0  Es necesaria una investigación inmediata sobre...   \n",
       "1  Sehr geehrter Kundenservice,\\n\\nich hoffe, die...   \n",
       "2  Prezado Suporte ao Cliente <name>,\\n\\nEstou es...   \n",
       "3  Dear IT Services Support Team, \\n\\nI am reachi...   \n",
       "4  Cher équipe de support du magasin en ligne Tec...   \n",
       "\n",
       "                                              answer      type  \\\n",
       "0  Estamos investigando urgentemente el problema ...  Incident   \n",
       "1  Sehr geehrter <name>,\\n\\nvielen Dank, dass Sie...   Request   \n",
       "2  Prezado <name>,\\n\\nObrigado por entrar em cont...  Incident   \n",
       "3  Dear <name>,\\n\\nThank you for reaching out reg...   Request   \n",
       "4  Cher <name>,\\n\\nMerci de nous avoir contactés ...  Incident   \n",
       "\n",
       "               queue priority language      business_type              tag_1  \\\n",
       "0  Technical Support     high       es        IT Services       Urgent Issue   \n",
       "1   Customer Service      low       de  Tech Online Store      Sales Inquiry   \n",
       "2  Technical Support     high       pt        IT Services  Technical Support   \n",
       "3         IT Support     high       en        IT Services         IT Support   \n",
       "4    Product Support      low       fr  Tech Online Store  Technical Support   \n",
       "\n",
       "                tag_2                 tag_3             tag_4  \\\n",
       "0  Service Disruption       Incident Report  Service Recovery   \n",
       "1     Product Support      Customer Service       Order Issue   \n",
       "2        Software Bug    Problem Resolution      Urgent Issue   \n",
       "3        Urgent Issue  Service Notification    Cloud Services   \n",
       "4     Product Support      Hardware Failure  Service Recovery   \n",
       "\n",
       "                   tag_5               tag_6               tag_7 tag_8 tag_9  \n",
       "0     System Maintenance                                                      \n",
       "1  Returns and Exchanges                                                      \n",
       "2             IT Support                                                      \n",
       "3     Problem Resolution  Technical Guidance  Performance Tuning              \n",
       "4        Routine Request                                                      "
      ]
     },
     "execution_count": 65,
     "metadata": {},
     "output_type": "execute_result"
    }
   ],
   "source": [
    "import pandas as pd\n",
    "import glob\n",
    "\n",
    "for file_path in glob.glob(path + \"*.csv\"):\n",
    "    print(file_path)\n",
    "\n",
    "df = pd.read_csv(\"../dataset/data/dataset-tickets-multi-lang3-4k.csv\")\n",
    "\n",
    "df = df.fillna('')\n",
    "\n",
    "df.head()\n"
   ]
  },
  {
   "cell_type": "markdown",
   "metadata": {},
   "source": [
    "# <font color='red'>2 - </font> Embedding Both Ticket Body and Answer"
   ]
  },
  {
   "cell_type": "code",
   "execution_count": 4,
   "metadata": {},
   "outputs": [],
   "source": [
    "X = df[\"body\"].values.astype(str)\n",
    "y = df[\"answer\"].values.astype(str)"
   ]
  },
  {
   "cell_type": "code",
   "execution_count": 5,
   "metadata": {},
   "outputs": [],
   "source": [
    "from sentence_transformers import SentenceTransformer\n",
    "\n",
    "model = SentenceTransformer('sentence-transformers/paraphrase-multilingual-mpnet-base-v2')\n",
    "embeddings = model.encode(X)"
   ]
  },
  {
   "cell_type": "code",
   "execution_count": 43,
   "metadata": {},
   "outputs": [],
   "source": [
    "from sklearn.model_selection import train_test_split\n",
    "\n",
    "train_idx, test_idx = train_test_split(np.arange(len(X)), random_state=42)"
   ]
  },
  {
   "cell_type": "code",
   "execution_count": 46,
   "metadata": {},
   "outputs": [],
   "source": [
    "X_train, X_test, y_train, y_test = embeddings[train_idx], embeddings[test_idx], y[train_idx], y[test_idx]"
   ]
  },
  {
   "cell_type": "code",
   "execution_count": 57,
   "metadata": {},
   "outputs": [
    {
     "name": "stdout",
     "output_type": "stream",
     "text": [
      "Cher service client,\n",
      "\n",
      "J'espère que ce message vous trouve en bonne santé. Je vous écris pour demander une mise à niveau de nos licences Google Workspace pour l'équipe de vente afin d'améliorer leur productivité et leurs capacités de collaboration. Actuellement, nous utilisons l'édition Business Standard, et une transition vers un plan plus avancé serait très bénéfique pour notre équipe. Veuillez nous faire savoir les procédures et les coûts associés à cette mise à niveau.\n",
      "\n",
      "Merci pour votre assistance.\n",
      "\n",
      "Cordialement,\n",
      "\n",
      "<name>\n"
     ]
    }
   ],
   "source": [
    "sample_id = 4\n",
    "\n",
    "print(X[test_idx[sample_id]])"
   ]
  },
  {
   "cell_type": "code",
   "execution_count": 58,
   "metadata": {},
   "outputs": [],
   "source": [
    "from sklearn.metrics.pairwise import cosine_similarity\n",
    "\n",
    "similarity_matrix = cosine_similarity(X_train, [X_test[sample_id]])"
   ]
  },
  {
   "cell_type": "code",
   "execution_count": 60,
   "metadata": {},
   "outputs": [],
   "source": [
    "import numpy as np\n",
    "\n",
    "df_topk = pd.DataFrame({\n",
    "    \"ticket_id\" : np.arange(len(similarity_matrix)).tolist(),\n",
    "    \"similarity\" : similarity_matrix.reshape(-1)\n",
    "    }).sort_values('similarity', ascending=False)"
   ]
  },
  {
   "cell_type": "code",
   "execution_count": 61,
   "metadata": {},
   "outputs": [
    {
     "data": {
      "text/plain": [
       "Text(0.5, 0, 'Similarity')"
      ]
     },
     "execution_count": 61,
     "metadata": {},
     "output_type": "execute_result"
    },
    {
     "data": {
      "image/png": "[encoded data removed]",
      "text/plain": [
       "<Figure size 640x480 with 1 Axes>"
      ]
     },
     "metadata": {},
     "output_type": "display_data"
    }
   ],
   "source": [
    "top_10 = df_topk.head(10)\n",
    "\n",
    "counts = top_10['similarity'].sort_values(ascending=True)\n",
    "counts.plot(kind=\"barh\", stacked=True, colormap=\"Set2\")\n",
    "plt.title(\"Similarty per ticket id\")\n",
    "plt.xlabel(\"Similarity\")"
   ]
  },
  {
   "cell_type": "code",
   "execution_count": 64,
   "metadata": {},
   "outputs": [
    {
     "name": "stdout",
     "output_type": "stream",
     "text": [
      "Cher service client,\n",
      "\n",
      "J'espère que ce message vous trouve en bonne santé. Je vous écris pour demander une mise à niveau de nos licences Google Workspace pour l'équipe de vente afin d'améliorer leur productivité et leurs capacités de collaboration. Actuellement, nous utilisons l'édition Business Standard, et une transition vers un plan plus avancé serait très bénéfique pour notre équipe. Veuillez nous faire savoir les procédures et les coûts associés à cette mise à niveau.\n",
      "\n",
      "Merci pour votre assistance.\n",
      "\n",
      "Cordialement,\n",
      "\n",
      "<name> Estimado/a <name>,\n",
      "\n",
      "Gracias por ponerse en contacto con respecto a la actualización de sus licencias de Google Workspace. Para actualizar de Business Standard a un plan más avanzado, puede considerar opciones como Business Plus, Enterprise Standard o Enterprise Plus. Estos planes ofrecen funciones mejoradas para la colaboración y la productividad.\n",
      "\n",
      "Para proceder con la actualización, puede acceder a la Consola de Administración de Google y navegar a 'Facturación' para realizar los cambios. Alternativamente, podemos ayudarle con el proceso. El costo variará dependiendo del plan seleccionado y del número de licencias necesarias.\n",
      "\n",
      "Para obtener precios detallados y más asistencia, no dude en contactarnos directamente o consultar la página de precios de Google Workspace.\n",
      "\n",
      "Atentamente,\n",
      "Equipo de Soporte al Cliente Sehr geehrte(r) <name>,\n",
      "\n",
      "vielen Dank für Ihre Anfrage. Um Kalenderfunktionen mit Ihrem HR-Portal in Google Workspace Business Standard zu integrieren, können Sie die API von Google Kalender nutzen, die eine nahtlose Integration mit verschiedenen Anwendungen ermöglicht. Hier sind die allgemeinen Schritte:\n",
      "1. Stellen Sie sicher, dass Sie über Administrationszugang zu Google Workspace verfügen.\n",
      "2. Verwenden Sie die API-Dokumentation von Google Kalender für Anleitungen zur Integration.\n",
      "3. Ziehen Sie in Betracht, Drittanbietertools oder -dienste zu nutzen, die auf solche Integrationen spezialisiert sind, um die Integration zu erleichtern.\n",
      "4. Testen Sie die Integration in einer kontrollierten Umgebung, bevor Sie sie im großen Stil implementieren.\n",
      "\n",
      "Wenn Sie weitere Unterstützung benötigen, zögern Sie nicht, uns zu kontaktieren.\n",
      "\n",
      "Mit freundlichen Grüßen,\n",
      "Kundenservice\n"
     ]
    }
   ],
   "source": [
    "print(X[test_idx[4]], y[train_idx[2158]], y[train_idx[2273]])"
   ]
  },
  {
   "cell_type": "markdown",
   "metadata": {},
   "source": [
    "# <font color='red'>3 - </font> How many ticket bodies of test set can find similar ticket in train test ?"
   ]
  },
  {
   "cell_type": "code",
   "execution_count": 102,
   "metadata": {},
   "outputs": [],
   "source": [
    "similarity_matrix = cosine_similarity(X_train, X_test)"
   ]
  },
  {
   "cell_type": "code",
   "execution_count": 105,
   "metadata": {},
   "outputs": [
    {
     "name": "stdout",
     "output_type": "stream",
     "text": [
      "For 1000 sample tests tickets, 849 can be used as a reference to quickly answer\n"
     ]
    }
   ],
   "source": [
    "max_similarities = np.max(similarity_matrix, axis=0)\n",
    "\n",
    "count = np.sum(max_similarities >= 0.9)\n",
    "\n",
    "print(\"For \" + str(len(X_test)) + \" sample tests tickets, \" + str(count), \"can be used as a reference to quickly answer\")"
   ]
  }
 ],
 "metadata": {
  "kernelspec": {
   "display_name": "ai_ticket_env",
   "language": "python",
   "name": "python3"
  },
  "language_info": {
   "codemirror_mode": {
    "name": "ipython",
    "version": 3
   },
   "file_extension": ".py",
   "mimetype": "text/x-python",
   "name": "python",
   "nbconvert_exporter": "python",
   "pygments_lexer": "ipython3",
   "version": "3.10.18"
  }
 },
 "nbformat": 4,
 "nbformat_minor": 2
}
