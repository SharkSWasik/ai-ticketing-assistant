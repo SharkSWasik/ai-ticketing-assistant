{
 "cells": [
  {
   "cell_type": "code",
   "execution_count": 2,
   "metadata": {},
   "outputs": [],
   "source": [
    "from mistralai import Mistral\n",
    "import requests\n",
    "import numpy as np\n",
    "import faiss\n",
    "import os\n",
    "from getpass import getpass"
   ]
  },
  {
   "cell_type": "markdown",
   "metadata": {},
   "source": [
    "# <font color='red'>1 - </font> Getting Data"
   ]
  },
  {
   "cell_type": "markdown",
   "metadata": {},
   "source": [
    "#### <font color='red'>1.a </font> Read the csv"
   ]
  },
  {
   "cell_type": "code",
   "execution_count": 3,
   "metadata": {},
   "outputs": [],
   "source": [
    "path = \"../dataset/data/\""
   ]
  },
  {
   "cell_type": "code",
   "execution_count": 4,
   "metadata": {},
   "outputs": [
    {
     "data": {
      "text/html": [
       "<div>\n",
       "<style scoped>\n",
       "    .dataframe tbody tr th:only-of-type {\n",
       "        vertical-align: middle;\n",
       "    }\n",
       "\n",
       "    .dataframe tbody tr th {\n",
       "        vertical-align: top;\n",
       "    }\n",
       "\n",
       "    .dataframe thead th {\n",
       "        text-align: right;\n",
       "    }\n",
       "</style>\n",
       "<table border=\"1\" class=\"dataframe\">\n",
       "  <thead>\n",
       "    <tr style=\"text-align: right;\">\n",
       "      <th></th>\n",
       "      <th>subject</th>\n",
       "      <th>body</th>\n",
       "      <th>answer</th>\n",
       "      <th>type</th>\n",
       "      <th>queue</th>\n",
       "      <th>priority</th>\n",
       "      <th>language</th>\n",
       "      <th>business_type</th>\n",
       "      <th>tag_1</th>\n",
       "      <th>tag_2</th>\n",
       "      <th>tag_3</th>\n",
       "      <th>tag_4</th>\n",
       "      <th>tag_5</th>\n",
       "      <th>tag_6</th>\n",
       "      <th>tag_7</th>\n",
       "      <th>tag_8</th>\n",
       "      <th>tag_9</th>\n",
       "    </tr>\n",
       "  </thead>\n",
       "  <tbody>\n",
       "    <tr>\n",
       "      <th>0</th>\n",
       "      <td>Problema crítico del servidor requiere atenció...</td>\n",
       "      <td>Es necesaria una investigación inmediata sobre...</td>\n",
       "      <td>Estamos investigando urgentemente el problema ...</td>\n",
       "      <td>Incident</td>\n",
       "      <td>Technical Support</td>\n",
       "      <td>high</td>\n",
       "      <td>es</td>\n",
       "      <td>IT Services</td>\n",
       "      <td>Urgent Issue</td>\n",
       "      <td>Service Disruption</td>\n",
       "      <td>Incident Report</td>\n",
       "      <td>Service Recovery</td>\n",
       "      <td>System Maintenance</td>\n",
       "      <td></td>\n",
       "      <td></td>\n",
       "      <td></td>\n",
       "      <td></td>\n",
       "    </tr>\n",
       "    <tr>\n",
       "      <th>1</th>\n",
       "      <td>Anfrage zur Verfügbarkeit des Dell XPS 13 9310</td>\n",
       "      <td>Sehr geehrter Kundenservice,\\n\\nich hoffe, die...</td>\n",
       "      <td>Sehr geehrter &lt;name&gt;,\\n\\nvielen Dank, dass Sie...</td>\n",
       "      <td>Request</td>\n",
       "      <td>Customer Service</td>\n",
       "      <td>low</td>\n",
       "      <td>de</td>\n",
       "      <td>Tech Online Store</td>\n",
       "      <td>Sales Inquiry</td>\n",
       "      <td>Product Support</td>\n",
       "      <td>Customer Service</td>\n",
       "      <td>Order Issue</td>\n",
       "      <td>Returns and Exchanges</td>\n",
       "      <td></td>\n",
       "      <td></td>\n",
       "      <td></td>\n",
       "      <td></td>\n",
       "    </tr>\n",
       "    <tr>\n",
       "      <th>2</th>\n",
       "      <td>Erro na Autocompletação de Código do IntelliJ ...</td>\n",
       "      <td>Prezado Suporte ao Cliente &lt;name&gt;,\\n\\nEstou es...</td>\n",
       "      <td>Prezado &lt;name&gt;,\\n\\nObrigado por entrar em cont...</td>\n",
       "      <td>Incident</td>\n",
       "      <td>Technical Support</td>\n",
       "      <td>high</td>\n",
       "      <td>pt</td>\n",
       "      <td>IT Services</td>\n",
       "      <td>Technical Support</td>\n",
       "      <td>Software Bug</td>\n",
       "      <td>Problem Resolution</td>\n",
       "      <td>Urgent Issue</td>\n",
       "      <td>IT Support</td>\n",
       "      <td></td>\n",
       "      <td></td>\n",
       "      <td></td>\n",
       "      <td></td>\n",
       "    </tr>\n",
       "    <tr>\n",
       "      <th>3</th>\n",
       "      <td>Urgent Assistance Required: AWS Service</td>\n",
       "      <td>Dear IT Services Support Team, \\n\\nI am reachi...</td>\n",
       "      <td>Dear &lt;name&gt;,\\n\\nThank you for reaching out reg...</td>\n",
       "      <td>Request</td>\n",
       "      <td>IT Support</td>\n",
       "      <td>high</td>\n",
       "      <td>en</td>\n",
       "      <td>IT Services</td>\n",
       "      <td>IT Support</td>\n",
       "      <td>Urgent Issue</td>\n",
       "      <td>Service Notification</td>\n",
       "      <td>Cloud Services</td>\n",
       "      <td>Problem Resolution</td>\n",
       "      <td>Technical Guidance</td>\n",
       "      <td>Performance Tuning</td>\n",
       "      <td></td>\n",
       "      <td></td>\n",
       "    </tr>\n",
       "    <tr>\n",
       "      <th>4</th>\n",
       "      <td>Problème d'affichage de MacBook Air</td>\n",
       "      <td>Cher équipe de support du magasin en ligne Tec...</td>\n",
       "      <td>Cher &lt;name&gt;,\\n\\nMerci de nous avoir contactés ...</td>\n",
       "      <td>Incident</td>\n",
       "      <td>Product Support</td>\n",
       "      <td>low</td>\n",
       "      <td>fr</td>\n",
       "      <td>Tech Online Store</td>\n",
       "      <td>Technical Support</td>\n",
       "      <td>Product Support</td>\n",
       "      <td>Hardware Failure</td>\n",
       "      <td>Service Recovery</td>\n",
       "      <td>Routine Request</td>\n",
       "      <td></td>\n",
       "      <td></td>\n",
       "      <td></td>\n",
       "      <td></td>\n",
       "    </tr>\n",
       "  </tbody>\n",
       "</table>\n",
       "</div>"
      ],
      "text/plain": [
       "                                             subject  \\\n",
       "0  Problema crítico del servidor requiere atenció...   \n",
       "1     Anfrage zur Verfügbarkeit des Dell XPS 13 9310   \n",
       "2  Erro na Autocompletação de Código do IntelliJ ...   \n",
       "3            Urgent Assistance Required: AWS Service   \n",
       "4                Problème d'affichage de MacBook Air   \n",
       "\n",
       "                                                body  \\\n",
       "0  Es necesaria una investigación inmediata sobre...   \n",
       "1  Sehr geehrter Kundenservice,\\n\\nich hoffe, die...   \n",
       "2  Prezado Suporte ao Cliente <name>,\\n\\nEstou es...   \n",
       "3  Dear IT Services Support Team, \\n\\nI am reachi...   \n",
       "4  Cher équipe de support du magasin en ligne Tec...   \n",
       "\n",
       "                                              answer      type  \\\n",
       "0  Estamos investigando urgentemente el problema ...  Incident   \n",
       "1  Sehr geehrter <name>,\\n\\nvielen Dank, dass Sie...   Request   \n",
       "2  Prezado <name>,\\n\\nObrigado por entrar em cont...  Incident   \n",
       "3  Dear <name>,\\n\\nThank you for reaching out reg...   Request   \n",
       "4  Cher <name>,\\n\\nMerci de nous avoir contactés ...  Incident   \n",
       "\n",
       "               queue priority language      business_type              tag_1  \\\n",
       "0  Technical Support     high       es        IT Services       Urgent Issue   \n",
       "1   Customer Service      low       de  Tech Online Store      Sales Inquiry   \n",
       "2  Technical Support     high       pt        IT Services  Technical Support   \n",
       "3         IT Support     high       en        IT Services         IT Support   \n",
       "4    Product Support      low       fr  Tech Online Store  Technical Support   \n",
       "\n",
       "                tag_2                 tag_3             tag_4  \\\n",
       "0  Service Disruption       Incident Report  Service Recovery   \n",
       "1     Product Support      Customer Service       Order Issue   \n",
       "2        Software Bug    Problem Resolution      Urgent Issue   \n",
       "3        Urgent Issue  Service Notification    Cloud Services   \n",
       "4     Product Support      Hardware Failure  Service Recovery   \n",
       "\n",
       "                   tag_5               tag_6               tag_7 tag_8 tag_9  \n",
       "0     System Maintenance                                                      \n",
       "1  Returns and Exchanges                                                      \n",
       "2             IT Support                                                      \n",
       "3     Problem Resolution  Technical Guidance  Performance Tuning              \n",
       "4        Routine Request                                                      "
      ]
     },
     "execution_count": 4,
     "metadata": {},
     "output_type": "execute_result"
    }
   ],
   "source": [
    "import pandas as pd\n",
    "import glob\n",
    "\n",
    "df = pd.read_csv(\"../dataset/data/dataset-tickets-multi-lang3-4k.csv\")\n",
    "\n",
    "df = df.fillna('')\n",
    "\n",
    "df.head()"
   ]
  },
  {
   "cell_type": "markdown",
   "metadata": {},
   "source": [
    "#### <font color='red'>1.b </font> Create one string per dataframe line"
   ]
  },
  {
   "cell_type": "code",
   "execution_count": 75,
   "metadata": {},
   "outputs": [
    {
     "name": "stdout",
     "output_type": "stream",
     "text": [
      "mean of each line sample length 1630.032\n",
      "max of length line sample 5026\n"
     ]
    }
   ],
   "source": [
    "import numpy as np\n",
    "\n",
    "def format_ticket(row):\n",
    "    return (\n",
    "        f\"SUBJECT: {row['subject']} \"\n",
    "        f\"PROBLEM: {row['body']} \"\n",
    "        f\"SOLUTION: {row['answer']} \"\n",
    "        f\"PRIORITY: {row['priority']} \"\n",
    "        f\"LANGUAGE: {row['language']} \"\n",
    "        f\"SUPPORT TEAM: {row['queue']}\"\n",
    "    )\n",
    "\n",
    "texts = df.apply(format_ticket, axis=1)\n",
    "lengths = texts.str.len()\n",
    "\n",
    "print(\"mean of each line sample length\", np.mean(lengths))\n",
    "print(\"max of length line sample\", np.max(lengths))"
   ]
  },
  {
   "cell_type": "code",
   "execution_count": null,
   "metadata": {},
   "outputs": [
    {
     "name": "stdout",
     "output_type": "stream",
     "text": [
      "SUBJECT: Problema crítico del servidor requiere atención inmediata PROBLEM: Es necesaria una investigación inmediata sobre la interrupción en el servicio de gestión de AWS que está impactando funciones comerciales esenciales. SOLUTION: Estamos investigando urgentemente el problema con el servicio de gestión de AWS. Proporcionaremos actualizaciones sobre nuestro progreso. PRIORITY: high LANGUAGE: es SUPPORT TEAM: Technical Support\n"
     ]
    }
   ],
   "source": [
    "print(texts[0])"
   ]
  },
  {
   "cell_type": "markdown",
   "metadata": {},
   "source": [
    "#### <font color='red'>1.c </font> Split the data into train test to be able to test rag on unseen data"
   ]
  },
  {
   "cell_type": "code",
   "execution_count": 76,
   "metadata": {},
   "outputs": [],
   "source": [
    "from sklearn.model_selection import train_test_split\n",
    "\n",
    "train_idx, test_idx = train_test_split(np.arange(len(df)), random_state=42)"
   ]
  },
  {
   "cell_type": "markdown",
   "metadata": {},
   "source": [
    "# <font color='red'>2 - </font> Split document into chunks"
   ]
  },
  {
   "cell_type": "markdown",
   "metadata": {},
   "source": [
    "#### <font color='red'>2.a </font> Create chunks"
   ]
  },
  {
   "cell_type": "code",
   "execution_count": 77,
   "metadata": {},
   "outputs": [],
   "source": [
    "import re\n",
    "\n",
    "chunk_size = 2048\n",
    "chunks = []\n",
    "\n",
    "for idx in train_idx:\n",
    "    text = texts[idx]\n",
    "    #if less than 500 length we keep the entire string as a chunk\n",
    "    if len(text) < 500:\n",
    "        chunks.append(text)\n",
    "    else:\n",
    "        #using regex to cut the text into sections\n",
    "        sections = re.split(r\"(SUBJECT:*|PROBLEM:*|SOLUTION:*|PRIORITY:*|LANGUAGE:*|SUPPORT TEAM:*)\", text)\n",
    "        sections = [s.strip() for s in sections if s.strip()]\n",
    "        it = iter(sections)\n",
    "        sections_list = [f\"{k} {v}\" for k, v in zip(it, it)]\n",
    "\n",
    "        temp_chunk = \"\"\n",
    "        for sec in sections_list:\n",
    "            #if temp_chunk + new sec is greater than the chunk size, we save the last temp chunk\n",
    "            if len(temp_chunk) + len(sec) > chunk_size:\n",
    "                if temp_chunk:  #no empty chunk\n",
    "                    chunks.append(temp_chunk.strip())\n",
    "                temp_chunk = sec\n",
    "            else:\n",
    "                temp_chunk += \" \" + sec if temp_chunk else sec\n",
    "        #adding last chunk\n",
    "        if temp_chunk:\n",
    "            chunks.append(temp_chunk.strip())"
   ]
  },
  {
   "cell_type": "code",
   "execution_count": 79,
   "metadata": {},
   "outputs": [
    {
     "name": "stdout",
     "output_type": "stream",
     "text": [
      "total number of chunks : 4025\n"
     ]
    }
   ],
   "source": [
    "print(\"total number of chunks :\", len(chunks))"
   ]
  },
  {
   "cell_type": "markdown",
   "metadata": {},
   "source": [
    "#### <font color='red'>2.b </font> Monitor chunk size"
   ]
  },
  {
   "cell_type": "code",
   "execution_count": 10,
   "metadata": {},
   "outputs": [
    {
     "data": {
      "image/png": "[encoded data removed]",
      "text/plain": [
       "<Figure size 500x300 with 1 Axes>"
      ]
     },
     "metadata": {},
     "output_type": "display_data"
    }
   ],
   "source": [
    "import matplotlib.pyplot as plt\n",
    "\n",
    "chunks_length = [len(chunk) for chunk in chunks]\n",
    "plt.figure(figsize=(5, 3))\n",
    "plt.title(\"Distribution of chunks size\")\n",
    "plt.xlabel(\"size of chunks\")\n",
    "plt.ylabel(\"number of chunks\")\n",
    "plt.hist(chunks_length, bins=10, edgecolor='k')\n",
    "plt.tight_layout()"
   ]
  },
  {
   "cell_type": "markdown",
   "metadata": {},
   "source": [
    "# <font color='red'>3 - </font> Create embeddings for each text chunk"
   ]
  },
  {
   "cell_type": "code",
   "execution_count": null,
   "metadata": {},
   "outputs": [],
   "source": [
    "from sentence_transformers import SentenceTransformer\n",
    "\n",
    "embeddings_model = SentenceTransformer('sentence-transformers/paraphrase-multilingual-mpnet-base-v2') #multilingual model\n",
    "embeddings = embeddings_model.encode(chunks)"
   ]
  },
  {
   "cell_type": "markdown",
   "metadata": {},
   "source": [
    "# <font color='red'>4 - </font> Load into a vector database"
   ]
  },
  {
   "cell_type": "code",
   "execution_count": 12,
   "metadata": {},
   "outputs": [],
   "source": [
    "import faiss\n",
    "\n",
    "d = embeddings.shape[1]\n",
    "index = faiss.IndexFlatL2(d)\n",
    "index.add(embeddings)"
   ]
  },
  {
   "cell_type": "markdown",
   "metadata": {},
   "source": [
    "# <font color='red'>5 - </font> Prepocess data input/output for RAG"
   ]
  },
  {
   "cell_type": "markdown",
   "metadata": {},
   "source": [
    "#### <font color='red'>5.a </font> Create rag input from formatted str"
   ]
  },
  {
   "cell_type": "code",
   "execution_count": 80,
   "metadata": {},
   "outputs": [],
   "source": [
    "import json\n",
    "\n",
    "def expected_input(texts, test_idx, idx, embeddings_model):\n",
    "    \n",
    "    ticket_sample = texts[test_idx[idx]]\n",
    "    ticket_sample_problem = re.search(r\"PROBLEM:(.*?)(?=SUBJECT:|SOLUTION:|PRIORITY:|LANGUAGE:|SUPPORT TEAM:|$)\", ticket_sample, re.DOTALL).group(1).strip()\n",
    "    ticket_sample_embeddings = embeddings_model.encode(ticket_sample_problem).reshape(1, -1)\n",
    "    \n",
    "    #top k similar ticket problem\n",
    "    D, I = index.search(ticket_sample_embeddings, k=3)\n",
    "    retrieved_chunk = [chunks[i] for i in I.tolist()[0]]\n",
    "    \n",
    "    return ticket_sample_problem, retrieved_chunk"
   ]
  },
  {
   "cell_type": "markdown",
   "metadata": {},
   "source": [
    "#### <font color='red'>5.b </font> Create rag output ref to compare predictions to"
   ]
  },
  {
   "cell_type": "code",
   "execution_count": null,
   "metadata": {},
   "outputs": [],
   "source": [
    "def expected_output(texts, test_idx, idx):\n",
    "    \n",
    "    ticket_sample = texts[test_idx[idx]]\n",
    "    ticket_sample_answer = re.search(r\"SOLUTION:(.*?)(?=SUBJECT:|PROBLEM:|PRIORITY:|LANGUAGE:|SUPPORT TEAM:|$)\", ticket_sample, re.DOTALL).group(1).strip()\n",
    "    ticket_sample_priority = re.search(r\"PRIORITY:(.*?)(?=SUBJECT:|PROBLEM:|SOLUTION:|LANGUAGE:|SUPPORT TEAM:|$)\", ticket_sample, re.DOTALL).group(1).strip()\n",
    "    ticket_sample_team = re.search(r\"SUPPORT TEAM:(.*?)(?=SUBJECT:|SOLUTION:|PROBLEM:|SOLUTION:|LANGUAGE:|$)\", ticket_sample, re.DOTALL).group(1).strip()\n",
    "    ticket_sample_lg = re.search(r\"LANGUAGE:(.*?)(?=SUBJECT:|SOLUTION:|PROBLEM:|SOLUTION:|SUPPORT TEAM:|$)\", ticket_sample, re.DOTALL).group(1).strip()\n",
    "\n",
    "    data = {\n",
    "    \"answer\": ticket_sample_answer,\n",
    "    \"priority\": ticket_sample_priority,\n",
    "    \"support_team\": ticket_sample_team,\n",
    "    \"language\": ticket_sample_lg\n",
    "    }\n",
    "    \n",
    "    return json.dumps(data, indent=4)"
   ]
  },
  {
   "cell_type": "markdown",
   "metadata": {},
   "source": [
    "# <font color='red'>6 - </font> Testing RAG on some test samples"
   ]
  },
  {
   "cell_type": "markdown",
   "metadata": {},
   "source": [
    "#### <font color='red'>6.a </font> Connexion to Mistral api"
   ]
  },
  {
   "cell_type": "code",
   "execution_count": null,
   "metadata": {},
   "outputs": [],
   "source": [
    "api_key = os.environ[\"MISTRAL_API_KEY\"]\n",
    "client = Mistral(api_key=api_key)\n",
    "\n",
    "def run_mistral(user_message, model=\"mistral-medium-2505\"):\n",
    "    messages = [\n",
    "        {\n",
    "            \"role\": \"user\", \"content\": user_message\n",
    "        }\n",
    "    ]\n",
    "    chat_response = client.chat.complete(\n",
    "        model=model,\n",
    "        messages=messages,\n",
    "        response_format={\"type\": \"json_object\"} #it must match our ref output\n",
    "    )\n",
    "    return (chat_response.choices[0].message.content)"
   ]
  },
  {
   "cell_type": "markdown",
   "metadata": {},
   "source": [
    "#### <font color='red'>6.b </font> RAG on few test sample, storing priority and support team in output"
   ]
  },
  {
   "cell_type": "code",
   "execution_count": 52,
   "metadata": {},
   "outputs": [
    {
     "name": "stderr",
     "output_type": "stream",
     "text": [
      "100%|██████████| 100/100 [10:09<00:00,  6.09s/it]\n"
     ]
    }
   ],
   "source": [
    "from tqdm import tqdm\n",
    "\n",
    "ref_priority, ref_support_team = [], []\n",
    "pred_priority, pred_support_team = [], []\n",
    "\n",
    "for test in tqdm(range(100)):\n",
    "    ticket_sample_problem, retrieved_chunk = expected_input(texts, test_idx, test, embeddings_model)\n",
    "\n",
    "    prompt = f\"\"\"\n",
    "        Context information is below.\n",
    "        ---------------------\n",
    "        {retrieved_chunk}\n",
    "        ---------------------\n",
    "        Given the context information and not prior knowledge, answer the query.\n",
    "        Query: {ticket_sample_problem}\n",
    "\n",
    "        CRITICAL: You MUST return ONLY a valid JSON object with exactly this structure. \n",
    "        Do not include any explanatory text, markdown formatting, or additional content.\n",
    "        Return only the JSON object with these exact field names and value types:\n",
    "\n",
    "        {{\n",
    "            \"answer\": \"your response text here\",\n",
    "            \"priority\": \"low\",\n",
    "            \"support_team\": \"Technical Support\", \n",
    "            \"language\": \"en\"\n",
    "        }}\n",
    "\n",
    "        Rules:\n",
    "        - priority must be exactly one of: \"low\", \"medium\", \"high\"\n",
    "        - support_team must be exactly one of: \"Technical Support\", \"Customer Service\", \"IT Support\", \"Product Support\", \"Billing and Payments\", \"Service Outages and Maintenance\", \"General Inquiry\", \"Returns and Exchanges\", \"Sales and Pre-Sales\", \"Human Resources\"\n",
    "        - language must be exactly one of: \"es\", \"de\", \"pt\", \"en\", \"fr\"\n",
    "        - All values must be simple strings, not objects\n",
    "        - Return ONLY the JSON object, nothing else\n",
    "\n",
    "        JSON:\n",
    "        \"\"\"\n",
    "    \n",
    "    responses = run_mistral(prompt)\n",
    "    ref_output = expected_output(texts, test_idx, test)\n",
    "\n",
    "    pred_priority.append(json.loads(responses)['priority'])\n",
    "    pred_support_team.append(json.loads(responses)['support_team'])\n",
    "\n",
    "    ref_priority.append(json.loads(ref_output)['priority'])\n",
    "    ref_support_team.append(json.loads(ref_output)['support_team'])"
   ]
  },
  {
   "cell_type": "markdown",
   "metadata": {},
   "source": [
    "# <font color='red'>7 - </font> Measure Classification efficiency"
   ]
  },
  {
   "cell_type": "markdown",
   "metadata": {},
   "source": [
    "#### <font color='red'>7.a </font> Storing results"
   ]
  },
  {
   "cell_type": "code",
   "execution_count": 65,
   "metadata": {},
   "outputs": [],
   "source": [
    "df_priority = pd.DataFrame({\"ref_priority\" : ref_priority,\n",
    "               \"pred_priority\" : pred_priority})\n",
    "\n",
    "df_support_teams = pd.DataFrame({\"ref_support_team\" : ref_support_team,\n",
    "               \"pred_support_team\" : pred_support_team})"
   ]
  },
  {
   "cell_type": "code",
   "execution_count": 68,
   "metadata": {},
   "outputs": [],
   "source": [
    "df_priority.to_csv(\"../results/priority.csv\", index_label=False)\n",
    "df_support_teams.to_csv(\"../results/support_team.csv\", index_label=False)"
   ]
  },
  {
   "cell_type": "markdown",
   "metadata": {},
   "source": [
    "#### <font color='red'>7.b </font> Encoding classifications output to calculate f1 score"
   ]
  },
  {
   "cell_type": "code",
   "execution_count": 56,
   "metadata": {},
   "outputs": [],
   "source": [
    "from sklearn.metrics import f1_score\n",
    "from sklearn.preprocessing import LabelEncoder\n",
    "\n",
    "label_encoder = LabelEncoder()\n",
    "encoded_ref_priority = label_encoder.fit_transform(ref_priority)\n",
    "encoded_pred_priority = label_encoder.transform(pred_priority)\n",
    "\n",
    "label_encoder = LabelEncoder()\n",
    "encoded_ref_support_team = label_encoder.fit_transform(ref_support_team)\n",
    "encoded_pred_support_team = label_encoder.transform(pred_support_team)"
   ]
  },
  {
   "cell_type": "code",
   "execution_count": 111,
   "metadata": {},
   "outputs": [
    {
     "data": {
      "image/png": "[encoded data removed]",
      "text/plain": [
       "<Figure size 700x400 with 1 Axes>"
      ]
     },
     "metadata": {},
     "output_type": "display_data"
    }
   ],
   "source": [
    "from sklearn.metrics import f1_score, accuracy_score, recall_score\n",
    "\n",
    "df_score = pd.DataFrame(\n",
    "    {\n",
    "        \"class_type\" : [\"support_team\", \"priority\"],\n",
    "        \"f1 score\" : [f1_score(encoded_ref_support_team, encoded_pred_support_team, average=\"weighted\"),\n",
    "                      f1_score(encoded_ref_priority, encoded_pred_priority, average=\"weighted\")],\n",
    "\n",
    "        \"accuracy\" : [accuracy_score(encoded_ref_support_team, encoded_pred_support_team),\n",
    "                      accuracy_score(encoded_ref_priority, encoded_pred_priority)],\n",
    "\n",
    "        \"recall\" : [recall_score(encoded_ref_support_team, encoded_pred_support_team, average=\"weighted\"),\n",
    "                    recall_score(encoded_ref_priority, encoded_pred_priority, average=\"weighted\")]\n",
    "    }\n",
    ")\n",
    "\n",
    "df_score.plot(x='class_type', y=['f1 score', 'accuracy', 'recall'], kind='bar', figsize=(7, 4))\n",
    "plt.title(\"Classification Performance Metrics\")\n",
    "plt.xticks(rotation=0)\n",
    "plt.ylim(0,1)\n",
    "plt.tight_layout()"
   ]
  },
  {
   "cell_type": "markdown",
   "metadata": {},
   "source": [
    "# <font color='red'>8 - </font> Context Relevance"
   ]
  },
  {
   "cell_type": "code",
   "execution_count": 21,
   "metadata": {},
   "outputs": [],
   "source": [
    "from ragas.dataset_schema import SingleTurnSample, EvaluationDataset\n",
    "\n",
    "samples = []\n",
    "\n",
    "for idx in test_idx[:100]:\n",
    "    ticket_sample = texts[idx]\n",
    "    ticket_sample_problem = re.search(r\"PROBLEM:(.*?)(?=SUBJECT:|SOLUTION:|PRIORITY:|LANGUAGE:|SUPPORT TEAM:|$)\", ticket_sample, re.DOTALL).group(1).strip()\n",
    "    ticket_sample_answer = re.search(r\"SOLUTION:(.*?)(?=SUBJECT:|SOLUTION:|PRIORITY:|LANGUAGE:|SUPPORT TEAM:|$)\", ticket_sample, re.DOTALL).group(1).strip()\n",
    "    ticket_sample_embeddings = embeddings_model.encode(ticket_sample).reshape(1, -1)\n",
    "    \n",
    "    D, I = index.search(ticket_sample_embeddings, k=3)\n",
    "    retrieved_chunk = [chunks[i] for i in I.tolist()[0]]\n",
    "    retrieved_chunk\n",
    "\n",
    "    samples.append(SingleTurnSample(\n",
    "        user_input=ticket_sample_problem,\n",
    "        retrieved_contexts=retrieved_chunk,\n",
    "        response=ticket_sample_answer\n",
    "    ))\n",
    "\n",
    "eval_dataset = EvaluationDataset(samples=samples)"
   ]
  },
  {
   "cell_type": "code",
   "execution_count": 22,
   "metadata": {},
   "outputs": [],
   "source": [
    "from ragas.metrics import LLMContextPrecisionWithoutReference\n",
    "from ragas.embeddings import LangchainEmbeddingsWrapper\n",
    "from ragas.llms import LangchainLLMWrapper\n",
    "from langchain_mistralai.chat_models import ChatMistralAI\n",
    "\n",
    "mistral_wrapper = ChatMistralAI(model=\"mistral-small-2506\")\n",
    "judge_llm = LangchainLLMWrapper(mistral_wrapper)\n",
    "embeddings_wrapper = LangchainEmbeddingsWrapper(embeddings_model)\n",
    "\n",
    "context_precision = LLMContextPrecisionWithoutReference(llm=judge_llm)"
   ]
  },
  {
   "cell_type": "code",
   "execution_count": 23,
   "metadata": {},
   "outputs": [
    {
     "data": {
      "application/vnd.jupyter.widget-view+json": {
       "model_id": "aefe497ec3024baba9d736f6d993c96d",
       "version_major": 2,
       "version_minor": 0
      },
      "text/plain": [
       "Evaluating:   0%|          | 0/100 [00:00<?, ?it/s]"
      ]
     },
     "metadata": {},
     "output_type": "display_data"
    }
   ],
   "source": [
    "from ragas import evaluate\n",
    "\n",
    "result = evaluate(\n",
    "    dataset=eval_dataset,\n",
    "    metrics=[context_precision],\n",
    "    llm=judge_llm,\n",
    "    embeddings=embeddings\n",
    ")"
   ]
  },
  {
   "cell_type": "code",
   "execution_count": 26,
   "metadata": {},
   "outputs": [
    {
     "name": "stdout",
     "output_type": "stream",
     "text": [
      "Score de Context Precision : 0.9216666666254166\n"
     ]
    }
   ],
   "source": [
    "print(\"Score de Context Precision :\", np.mean(result['llm_context_precision_without_reference']))"
   ]
  },
  {
   "cell_type": "markdown",
   "metadata": {},
   "source": [
    "# <font color='red'>9 - </font> LLM as a judge"
   ]
  },
  {
   "cell_type": "code",
   "execution_count": 27,
   "metadata": {},
   "outputs": [],
   "source": [
    "from pydantic import BaseModel, Field\n",
    "from enum import Enum\n",
    "\n",
    "# Initialize the Mistral client with the API key\n",
    "client = Mistral(api_key=api_key)\n",
    "model = \"mistral-medium-latest\"\n",
    "\n",
    "# Define Enum for scores\n",
    "class Score(str, Enum):\n",
    "    no_relevance = \"0\"\n",
    "    low_relevance = \"1\"\n",
    "    medium_relevance = \"2\"\n",
    "    high_relevance = \"3\"\n",
    "\n",
    "# Define a constant for the score description\n",
    "SCORE_DESCRIPTION = (\n",
    "    \"Score as a string between '0' and '3'. \"\n",
    "    \"0: No relevance/Not grounded/Irrelevant - The context/answer is completely unrelated or not based on the context. \"\n",
    "    \"1: Low relevance/Low groundedness/Somewhat relevant - The context/answer has minimal relevance or grounding. \"\n",
    "    \"2: Medium relevance/Medium groundedness/Mostly relevant - The context/answer is somewhat relevant or grounded. \"\n",
    "    \"3: High relevance/High groundedness/Fully relevant - The context/answer is highly relevant or grounded.\"\n",
    ")\n",
    "\n",
    "# Define separate classes for each criterion with detailed descriptions\n",
    "class ContextRelevance(BaseModel):\n",
    "    explanation: str = Field(..., description=(\"Step-by-step reasoning explaining how the retrieved context aligns with the user's query. \"\n",
    "                    \"Consider the relevance of the information to the query's intent and the appropriateness of the context \"\n",
    "                    \"in providing a coherent and useful response.\"))\n",
    "    score: Score = Field(..., description=SCORE_DESCRIPTION)\n",
    "\n",
    "class AnswerRelevance(BaseModel):\n",
    "    explanation: str = Field(..., description=(\"Step-by-step reasoning explaining how well the generated answer addresses the user's original query. \"\n",
    "                    \"Consider the helpfulness and on-point nature of the answer, aligning with the user's intent and providing valuable insights.\"))\n",
    "    score: Score = Field(..., description=SCORE_DESCRIPTION)\n",
    "\n",
    "class Groundedness(BaseModel):\n",
    "    explanation: str = Field(..., description=(\"Step-by-step reasoning explaining how faithful the generated answer is to the retrieved context. \"\n",
    "                    \"Consider the factual accuracy and reliability of the answer, ensuring it is grounded in the retrieved information.\"))\n",
    "    score: Score = Field(..., description=SCORE_DESCRIPTION)\n",
    "\n",
    "class RAGEvaluation(BaseModel):\n",
    "    context_relevance: ContextRelevance = Field(..., description=\"Evaluation of the context relevance to the query, considering how well the retrieved context aligns with the user's intent.\" )\n",
    "    answer_relevance: AnswerRelevance = Field(..., description=\"Evaluation of the answer relevance to the query, assessing how well the generated answer addresses the user's original query.\" )\n",
    "    groundedness: Groundedness = Field(..., description=\"Evaluation of the groundedness of the generated answer, ensuring it is faithful to the retrieved context.\" )\n",
    "\n",
    "# Function to evaluate RAG metrics\n",
    "def evaluate_rag(query: str, retrieved_context: str, generated_answer: str):\n",
    "    chat_response = client.chat.parse(\n",
    "        model=model,\n",
    "        messages=[\n",
    "            {\n",
    "                \"role\": \"system\",\n",
    "                \"content\": (\n",
    "                    \"You are a judge for evaluating a Retrieval-Augmented Generation (RAG) system. \"\n",
    "                    \"Evaluate the context relevance, answer relevance, and groundedness based on the following criteria: \"\n",
    "                    \"Provide a reasoning and a score as a string between '0' and '3' for each criterion. \"\n",
    "                    \"Context Relevance: How relevant is the retrieved context to the query? \"\n",
    "                    \"Answer Relevance: How relevant is the generated answer to the query? \"\n",
    "                    \"Groundedness: How faithful is the generated answer to the retrieved context?\"\n",
    "                )\n",
    "            },\n",
    "            {\n",
    "                \"role\": \"user\",\n",
    "                \"content\": f\"Query: {query}\\nRetrieved Context: {retrieved_context}\\nGenerated Answer: {generated_answer}\"\n",
    "            },\n",
    "        ],\n",
    "        response_format=RAGEvaluation,\n",
    "        temperature=0\n",
    "    )\n",
    "    return chat_response.choices[0].message.parsed"
   ]
  },
  {
   "cell_type": "code",
   "execution_count": 28,
   "metadata": {},
   "outputs": [
    {
     "name": "stdout",
     "output_type": "stream",
     "text": [
      "RAG Evaluation:\n",
      "\n",
      "Criteria: Context Relevance\n",
      "Reasoning: The retrieved context is highly relevant to the query. The context includes multiple examples of customers requesting help and optimization for their AWS Management Service, which directly aligns with the user's query. The contexts are in different languages but convey the same intent and requirements as the user's query.\n",
      "Score: 3/3\n",
      "\n",
      "Criteria: Answer Relevance\n",
      "Reasoning: The generated answer is highly relevant to the query. It directly addresses the user's request for expert help in setting up and optimizing their AWS Management Service. The answer acknowledges the user's query and provides a clear next step, which is what the user is seeking.\n",
      "Score: 3/3\n",
      "\n",
      "Criteria: Groundedness\n",
      "Reasoning: The generated answer is faithful to the retrieved context. It follows the pattern seen in the context where the support team acknowledges the request and promises to have an expert team contact the user. This aligns well with the solutions provided in the retrieved contexts.\n",
      "Score: 3/3\n"
     ]
    }
   ],
   "source": [
    "sample_idx = test_idx[10]\n",
    "\n",
    "query = re.search(r\"PROBLEM:(.*?)(?=SUBJECT:|SOLUTION:|PRIORITY:|LANGUAGE:|SUPPORT TEAM:|$)\", ticket_sample, re.DOTALL).group(1).strip()\n",
    "generated_answer = re.search(r\"SOLUTION:(.*?)(?=SUBJECT:|SOLUTION:|PRIORITY:|LANGUAGE:|SUPPORT TEAM:|$)\", ticket_sample, re.DOTALL).group(1).strip()\n",
    "ticket_sample_embeddings = embeddings_model.encode(ticket_sample).reshape(1, -1)    \n",
    "D, I = index.search(ticket_sample_embeddings, k=3)\n",
    "retrieved_context = [chunks[i] for i in I.tolist()[0]]\n",
    "evaluation = evaluate_rag(query, retrieved_context, generated_answer)\n",
    "\n",
    "# Print the evaluation\n",
    "print(\"RAG Evaluation:\")\n",
    "print(\"\\nCriteria: Context Relevance\")\n",
    "print(f\"Reasoning: {evaluation.context_relevance.explanation}\")\n",
    "print(f\"Score: {evaluation.context_relevance.score.value}/3\")\n",
    "\n",
    "print(\"\\nCriteria: Answer Relevance\")\n",
    "print(f\"Reasoning: {evaluation.answer_relevance.explanation}\")\n",
    "print(f\"Score: {evaluation.answer_relevance.score.value}/3\")\n",
    "\n",
    "print(\"\\nCriteria: Groundedness\")\n",
    "print(f\"Reasoning: {evaluation.groundedness.explanation}\")\n",
    "print(f\"Score: {evaluation.groundedness.score.value}/3\")"
   ]
  }
 ],
 "metadata": {
  "kernelspec": {
   "display_name": "ai_ticket_env",
   "language": "python",
   "name": "python3"
  },
  "language_info": {
   "codemirror_mode": {
    "name": "ipython",
    "version": 3
   },
   "file_extension": ".py",
   "mimetype": "text/x-python",
   "name": "python",
   "nbconvert_exporter": "python",
   "pygments_lexer": "ipython3",
   "version": "3.10.18"
  }
 },
 "nbformat": 4,
 "nbformat_minor": 2
}
