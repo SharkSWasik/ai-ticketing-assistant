{
 "cells": [
  {
   "cell_type": "code",
   "execution_count": 1,
   "metadata": {},
   "outputs": [],
   "source": [
    "from mistralai import Mistral\n",
    "import requests\n",
    "import numpy as np\n",
    "import faiss\n",
    "import os\n",
    "from getpass import getpass"
   ]
  },
  {
   "cell_type": "markdown",
   "metadata": {},
   "source": [
    "# <font color='red'>1 - </font> Getting Data"
   ]
  },
  {
   "cell_type": "code",
   "execution_count": 2,
   "metadata": {},
   "outputs": [],
   "source": [
    "path = \"../dataset/data/\""
   ]
  },
  {
   "cell_type": "code",
   "execution_count": 3,
   "metadata": {},
   "outputs": [
    {
     "data": {
      "text/html": [
       "<div>\n",
       "<style scoped>\n",
       "    .dataframe tbody tr th:only-of-type {\n",
       "        vertical-align: middle;\n",
       "    }\n",
       "\n",
       "    .dataframe tbody tr th {\n",
       "        vertical-align: top;\n",
       "    }\n",
       "\n",
       "    .dataframe thead th {\n",
       "        text-align: right;\n",
       "    }\n",
       "</style>\n",
       "<table border=\"1\" class=\"dataframe\">\n",
       "  <thead>\n",
       "    <tr style=\"text-align: right;\">\n",
       "      <th></th>\n",
       "      <th>subject</th>\n",
       "      <th>body</th>\n",
       "      <th>answer</th>\n",
       "      <th>type</th>\n",
       "      <th>queue</th>\n",
       "      <th>priority</th>\n",
       "      <th>language</th>\n",
       "      <th>business_type</th>\n",
       "      <th>tag_1</th>\n",
       "      <th>tag_2</th>\n",
       "      <th>tag_3</th>\n",
       "      <th>tag_4</th>\n",
       "      <th>tag_5</th>\n",
       "      <th>tag_6</th>\n",
       "      <th>tag_7</th>\n",
       "      <th>tag_8</th>\n",
       "      <th>tag_9</th>\n",
       "    </tr>\n",
       "  </thead>\n",
       "  <tbody>\n",
       "    <tr>\n",
       "      <th>0</th>\n",
       "      <td>Problema crítico del servidor requiere atenció...</td>\n",
       "      <td>Es necesaria una investigación inmediata sobre...</td>\n",
       "      <td>Estamos investigando urgentemente el problema ...</td>\n",
       "      <td>Incident</td>\n",
       "      <td>Technical Support</td>\n",
       "      <td>high</td>\n",
       "      <td>es</td>\n",
       "      <td>IT Services</td>\n",
       "      <td>Urgent Issue</td>\n",
       "      <td>Service Disruption</td>\n",
       "      <td>Incident Report</td>\n",
       "      <td>Service Recovery</td>\n",
       "      <td>System Maintenance</td>\n",
       "      <td></td>\n",
       "      <td></td>\n",
       "      <td></td>\n",
       "      <td></td>\n",
       "    </tr>\n",
       "    <tr>\n",
       "      <th>1</th>\n",
       "      <td>Anfrage zur Verfügbarkeit des Dell XPS 13 9310</td>\n",
       "      <td>Sehr geehrter Kundenservice,\\n\\nich hoffe, die...</td>\n",
       "      <td>Sehr geehrter &lt;name&gt;,\\n\\nvielen Dank, dass Sie...</td>\n",
       "      <td>Request</td>\n",
       "      <td>Customer Service</td>\n",
       "      <td>low</td>\n",
       "      <td>de</td>\n",
       "      <td>Tech Online Store</td>\n",
       "      <td>Sales Inquiry</td>\n",
       "      <td>Product Support</td>\n",
       "      <td>Customer Service</td>\n",
       "      <td>Order Issue</td>\n",
       "      <td>Returns and Exchanges</td>\n",
       "      <td></td>\n",
       "      <td></td>\n",
       "      <td></td>\n",
       "      <td></td>\n",
       "    </tr>\n",
       "    <tr>\n",
       "      <th>2</th>\n",
       "      <td>Erro na Autocompletação de Código do IntelliJ ...</td>\n",
       "      <td>Prezado Suporte ao Cliente &lt;name&gt;,\\n\\nEstou es...</td>\n",
       "      <td>Prezado &lt;name&gt;,\\n\\nObrigado por entrar em cont...</td>\n",
       "      <td>Incident</td>\n",
       "      <td>Technical Support</td>\n",
       "      <td>high</td>\n",
       "      <td>pt</td>\n",
       "      <td>IT Services</td>\n",
       "      <td>Technical Support</td>\n",
       "      <td>Software Bug</td>\n",
       "      <td>Problem Resolution</td>\n",
       "      <td>Urgent Issue</td>\n",
       "      <td>IT Support</td>\n",
       "      <td></td>\n",
       "      <td></td>\n",
       "      <td></td>\n",
       "      <td></td>\n",
       "    </tr>\n",
       "    <tr>\n",
       "      <th>3</th>\n",
       "      <td>Urgent Assistance Required: AWS Service</td>\n",
       "      <td>Dear IT Services Support Team, \\n\\nI am reachi...</td>\n",
       "      <td>Dear &lt;name&gt;,\\n\\nThank you for reaching out reg...</td>\n",
       "      <td>Request</td>\n",
       "      <td>IT Support</td>\n",
       "      <td>high</td>\n",
       "      <td>en</td>\n",
       "      <td>IT Services</td>\n",
       "      <td>IT Support</td>\n",
       "      <td>Urgent Issue</td>\n",
       "      <td>Service Notification</td>\n",
       "      <td>Cloud Services</td>\n",
       "      <td>Problem Resolution</td>\n",
       "      <td>Technical Guidance</td>\n",
       "      <td>Performance Tuning</td>\n",
       "      <td></td>\n",
       "      <td></td>\n",
       "    </tr>\n",
       "    <tr>\n",
       "      <th>4</th>\n",
       "      <td>Problème d'affichage de MacBook Air</td>\n",
       "      <td>Cher équipe de support du magasin en ligne Tec...</td>\n",
       "      <td>Cher &lt;name&gt;,\\n\\nMerci de nous avoir contactés ...</td>\n",
       "      <td>Incident</td>\n",
       "      <td>Product Support</td>\n",
       "      <td>low</td>\n",
       "      <td>fr</td>\n",
       "      <td>Tech Online Store</td>\n",
       "      <td>Technical Support</td>\n",
       "      <td>Product Support</td>\n",
       "      <td>Hardware Failure</td>\n",
       "      <td>Service Recovery</td>\n",
       "      <td>Routine Request</td>\n",
       "      <td></td>\n",
       "      <td></td>\n",
       "      <td></td>\n",
       "      <td></td>\n",
       "    </tr>\n",
       "  </tbody>\n",
       "</table>\n",
       "</div>"
      ],
      "text/plain": [
       "                                             subject  \\\n",
       "0  Problema crítico del servidor requiere atenció...   \n",
       "1     Anfrage zur Verfügbarkeit des Dell XPS 13 9310   \n",
       "2  Erro na Autocompletação de Código do IntelliJ ...   \n",
       "3            Urgent Assistance Required: AWS Service   \n",
       "4                Problème d'affichage de MacBook Air   \n",
       "\n",
       "                                                body  \\\n",
       "0  Es necesaria una investigación inmediata sobre...   \n",
       "1  Sehr geehrter Kundenservice,\\n\\nich hoffe, die...   \n",
       "2  Prezado Suporte ao Cliente <name>,\\n\\nEstou es...   \n",
       "3  Dear IT Services Support Team, \\n\\nI am reachi...   \n",
       "4  Cher équipe de support du magasin en ligne Tec...   \n",
       "\n",
       "                                              answer      type  \\\n",
       "0  Estamos investigando urgentemente el problema ...  Incident   \n",
       "1  Sehr geehrter <name>,\\n\\nvielen Dank, dass Sie...   Request   \n",
       "2  Prezado <name>,\\n\\nObrigado por entrar em cont...  Incident   \n",
       "3  Dear <name>,\\n\\nThank you for reaching out reg...   Request   \n",
       "4  Cher <name>,\\n\\nMerci de nous avoir contactés ...  Incident   \n",
       "\n",
       "               queue priority language      business_type              tag_1  \\\n",
       "0  Technical Support     high       es        IT Services       Urgent Issue   \n",
       "1   Customer Service      low       de  Tech Online Store      Sales Inquiry   \n",
       "2  Technical Support     high       pt        IT Services  Technical Support   \n",
       "3         IT Support     high       en        IT Services         IT Support   \n",
       "4    Product Support      low       fr  Tech Online Store  Technical Support   \n",
       "\n",
       "                tag_2                 tag_3             tag_4  \\\n",
       "0  Service Disruption       Incident Report  Service Recovery   \n",
       "1     Product Support      Customer Service       Order Issue   \n",
       "2        Software Bug    Problem Resolution      Urgent Issue   \n",
       "3        Urgent Issue  Service Notification    Cloud Services   \n",
       "4     Product Support      Hardware Failure  Service Recovery   \n",
       "\n",
       "                   tag_5               tag_6               tag_7 tag_8 tag_9  \n",
       "0     System Maintenance                                                      \n",
       "1  Returns and Exchanges                                                      \n",
       "2             IT Support                                                      \n",
       "3     Problem Resolution  Technical Guidance  Performance Tuning              \n",
       "4        Routine Request                                                      "
      ]
     },
     "execution_count": 3,
     "metadata": {},
     "output_type": "execute_result"
    }
   ],
   "source": [
    "import pandas as pd\n",
    "import glob\n",
    "\n",
    "df = pd.read_csv(\"../dataset/data/dataset-tickets-multi-lang3-4k.csv\")\n",
    "\n",
    "df = df.fillna('')\n",
    "\n",
    "df.head()"
   ]
  },
  {
   "cell_type": "code",
   "execution_count": 4,
   "metadata": {},
   "outputs": [
    {
     "data": {
      "text/plain": [
       "(1630.032, 5026)"
      ]
     },
     "execution_count": 4,
     "metadata": {},
     "output_type": "execute_result"
    }
   ],
   "source": [
    "import numpy\n",
    "\n",
    "def format_ticket(row):\n",
    "    return (\n",
    "        f\"SUBJECT: {row['subject']} \"\n",
    "        f\"PROBLEM: {row['body']} \"\n",
    "        f\"SOLUTION: {row['answer']} \"\n",
    "        f\"PRIORITY: {row['priority']} \"\n",
    "        f\"LANGUAGE: {row['language']} \"\n",
    "        f\"SUPPORT TEAM: {row['queue']}\"\n",
    "    )\n",
    "\n",
    "texts = df.apply(format_ticket, axis=1)\n",
    "lengths = texts.str.len()\n",
    "np.mean(lengths), np.max(lengths)"
   ]
  },
  {
   "cell_type": "code",
   "execution_count": 5,
   "metadata": {},
   "outputs": [
    {
     "data": {
      "text/plain": [
       "'SUBJECT: Problema crítico del servidor requiere atención inmediata PROBLEM: Es necesaria una investigación inmediata sobre la interrupción en el servicio de gestión de AWS que está impactando funciones comerciales esenciales. SOLUTION: Estamos investigando urgentemente el problema con el servicio de gestión de AWS. Proporcionaremos actualizaciones sobre nuestro progreso. PRIORITY: high LANGUAGE: es SUPPORT TEAM: Technical Support'"
      ]
     },
     "execution_count": 5,
     "metadata": {},
     "output_type": "execute_result"
    }
   ],
   "source": [
    "texts[0]"
   ]
  },
  {
   "cell_type": "code",
   "execution_count": 6,
   "metadata": {},
   "outputs": [],
   "source": [
    "from sklearn.model_selection import train_test_split\n",
    "\n",
    "train_idx, test_idx = train_test_split(np.arange(len(df)), random_state=42)"
   ]
  },
  {
   "cell_type": "markdown",
   "metadata": {},
   "source": [
    "# <font color='red'>2 - </font> Split document into chunks"
   ]
  },
  {
   "cell_type": "code",
   "execution_count": 14,
   "metadata": {},
   "outputs": [],
   "source": [
    "import re\n",
    "\n",
    "chunk_size = 2048\n",
    "chunks = []\n",
    "\n",
    "for idx in train_idx:\n",
    "    text = texts[idx]\n",
    "    if len(text) < 500:\n",
    "        chunks.append(text)\n",
    "    else:\n",
    "        #using regex to cut the text into sections\n",
    "        sections = re.split(r\"(SUBJECT:*|PROBLEM:*|SOLUTION:*|PRIORITY:*|LANGUAGE:*|SUPPORT TEAM:*)\", text)\n",
    "        sections = [s.strip() for s in sections if s.strip()]\n",
    "        it = iter(sections)\n",
    "        sections_list = [f\"{k} {v}\" for k, v in zip(it, it)]\n",
    "\n",
    "        temp_chunk = \"\"\n",
    "        for sec in sections_list:\n",
    "            #if temp_chunk + new sec is greater than the chunk size, we save the last temp chunk\n",
    "            if len(temp_chunk) + len(sec) > chunk_size:\n",
    "                if temp_chunk:  #no empty chunk\n",
    "                    chunks.append(temp_chunk.strip())\n",
    "                temp_chunk = sec\n",
    "            else:\n",
    "                temp_chunk += \" \" + sec if temp_chunk else sec\n",
    "        #adding last chunk\n",
    "        if temp_chunk:\n",
    "            chunks.append(temp_chunk.strip())"
   ]
  },
  {
   "cell_type": "code",
   "execution_count": 15,
   "metadata": {},
   "outputs": [
    {
     "data": {
      "text/plain": [
       "4025"
      ]
     },
     "execution_count": 15,
     "metadata": {},
     "output_type": "execute_result"
    }
   ],
   "source": [
    "len(chunks)"
   ]
  },
  {
   "cell_type": "code",
   "execution_count": 16,
   "metadata": {},
   "outputs": [
    {
     "data": {
      "image/png": "[encoded data removed]",
      "text/plain": [
       "<Figure size 500x300 with 1 Axes>"
      ]
     },
     "metadata": {},
     "output_type": "display_data"
    }
   ],
   "source": [
    "import matplotlib.pyplot as plt\n",
    "\n",
    "chunks_length = [len(chunk) for chunk in chunks]\n",
    "plt.figure(figsize=(5, 3))\n",
    "plt.title(\"Distribution of chunks size\")\n",
    "plt.xlabel(\"size of chunks\")\n",
    "plt.ylabel(\"number of chunks\")\n",
    "plt.hist(chunks_length, bins=10, edgecolor='k')\n",
    "plt.tight_layout()"
   ]
  },
  {
   "cell_type": "markdown",
   "metadata": {},
   "source": [
    "# <font color='red'>3 - </font> Create embeddings for each text chunk"
   ]
  },
  {
   "cell_type": "code",
   "execution_count": 17,
   "metadata": {},
   "outputs": [],
   "source": [
    "from sentence_transformers import SentenceTransformer\n",
    "\n",
    "model = SentenceTransformer('sentence-transformers/paraphrase-multilingual-mpnet-base-v2')\n",
    "embeddings = model.encode(chunks)"
   ]
  },
  {
   "cell_type": "markdown",
   "metadata": {},
   "source": [
    "# <font color='red'>4 - </font> Load into a vector database"
   ]
  },
  {
   "cell_type": "code",
   "execution_count": 19,
   "metadata": {},
   "outputs": [],
   "source": [
    "import faiss\n",
    "\n",
    "d = embeddings.shape[1]\n",
    "index = faiss.IndexFlatL2(d)\n",
    "index.add(embeddings)"
   ]
  },
  {
   "cell_type": "markdown",
   "metadata": {},
   "source": [
    "# <font color='red'>5 - </font> Create embeddings for a ticket"
   ]
  },
  {
   "cell_type": "code",
   "execution_count": 36,
   "metadata": {},
   "outputs": [
    {
     "data": {
      "text/plain": [
       "\"SUBJECT:  PROBLEM: Cher service client,\\n\\nJ'espère que ce message vous trouve en bonne santé. Je vous écris pour demander une mise à niveau de nos licences Google Workspace pour l'équipe de vente afin d'améliorer leur productivité et leurs capacités de collaboration. Actuellement, nous utilisons l'édition Business Standard, et une transition vers un plan plus avancé serait très bénéfique pour notre équipe. Veuillez nous faire savoir les procédures et les coûts associés à cette mise à niveau.\\n\\nMerci pour votre assistance.\\n\\nCordialement,\\n\\n<name> SOLUTION: Cher <name>,\\n\\nMerci de nous avoir contactés concernant la mise à niveau de vos licences Google Workspace. Pour passer de Business Standard à un plan plus avancé, vous pouvez envisager des options telles que Business Plus, Enterprise Standard ou Enterprise Plus. Ces plans offrent des fonctionnalités améliorées pour la collaboration et la productivité.\\n\\nPour procéder à la mise à niveau, vous pouvez accéder à la console d'administration Google et naviguer vers 'Facturation' pour effectuer les modifications. Alternativement, nous pouvons vous aider dans le processus. Le coût variera en fonction du plan choisi et du nombre de licences nécessaires.\\n\\nPour des informations tarifaires détaillées et une assistance supplémentaire, n'hésitez pas à nous contacter directement ou à consulter la page de tarification de Google Workspace.\\n\\nCordialement,\\nÉquipe du service client PRIORITY: low LANGUAGE: fr SUPPORT TEAM: Sales and Pre-Sales\""
      ]
     },
     "execution_count": 36,
     "metadata": {},
     "output_type": "execute_result"
    }
   ],
   "source": [
    "ticket_sample"
   ]
  },
  {
   "cell_type": "code",
   "execution_count": 65,
   "metadata": {},
   "outputs": [
    {
     "name": "stdout",
     "output_type": "stream",
     "text": [
      "Ich benötige Hilfe, um den Druck über meinen Canon-Drucker einzurichten.\n"
     ]
    }
   ],
   "source": [
    "ticket_sample = texts[test_idx[471]]\n",
    "ticket_sample_problem = re.search(r\"PROBLEM:(.*?)(?=SUBJECT:|SOLUTION:|PRIORITY:|LANGUAGE:|SUPPORT TEAM:|$)\", ticket_sample, re.DOTALL).group(1).strip()\n",
    "ticket_sample_answer = re.search(r\"SOLUTION:(.*?)(?=SUBJECT:|SOLUTION:|PRIORITY:|LANGUAGE:|SUPPORT TEAM:|$)\", ticket_sample, re.DOTALL).group(1).strip()\n",
    "print(ticket_sample_problem)\n",
    "ticket_sample_embeddings = model.encode(ticket_sample).reshape(1, -1)"
   ]
  },
  {
   "cell_type": "markdown",
   "metadata": {},
   "source": [
    "# <font color='red'>6 - </font> Retrieve similar chunks from the vector database"
   ]
  },
  {
   "cell_type": "code",
   "execution_count": 66,
   "metadata": {},
   "outputs": [
    {
     "data": {
      "text/plain": [
       "['SUBJECT: Preciso de ajuda para configurar a impressora Canon PROBLEM: Caro time de suporte da Tech Online Store,\\n\\nPreciso de assistência para configurar as capacidades de impressão sem fio e móvel da minha impressora Canon PIXMA MG3620. Enfrentei algumas dificuldades ao tentar estabelecer a conectividade sem fio e garantir que funcione sem problemas com meus dispositivos móveis. Agradeceria imensamente qualquer sugestão de aconselhamento ou resolução de problemas que você pudesse oferecer para me ajudar a corrigir esse problema. Orientações detalhadas sobre como configurar corretamente esses recursos seriam extremamente úteis. Se necessário, estou aberto a uma ligação telefônica ou a instruções adicionais.\\n\\nPor favor, informe-me como podemos lidar de forma eficaz com esta situação. Aguardo sua resposta rápida e agradeço antecipadamente pela sua ajuda.\\n\\nAtenciosamente,\\n\\n<name>',\n",
       " 'SUBJECT: Hilfe bei der Einrichtung des drahtlosen Druckers PROBLEM: Sehr geehrter Kundenservice des Tech Online Store,\\n\\nIch habe kürzlich einen neuen Canon PIXMA MG3620 Drucker in Ihrem Online-Shop gekauft und habe Schwierigkeiten bei der Einrichtung für den drahtlosen Betrieb. Ich habe die Schritte im Benutzerhandbuch durchgegangen, aber es gelingt mir nicht, ihn erfolgreich zum Laufen zu bringen. Derzeit kann ich meinen Drucker nicht mit meinem drahtlosen Netzwerk verbinden, trotz mehrerer Versuche zur Fehlersuche.\\n\\nIch bitte um Ihre Unterstützung bei der Lösung dieses Problems. Könnten Sie mir bitte detaillierte, schrittweise Anleitungen geben oder mich auf eine Ressource verweisen, die den drahtlosen Einrichtungsprozess für dieses spezifische Modell beschreibt? Ihre Hilfe in dieser Angelegenheit wäre sehr geschätzt.\\n\\nVielen Dank für Ihre Unterstützung.\\n\\nMit freundlichen Grüßen,\\n<name>',\n",
       " 'SUBJECT: Hilfe bei der Einrichtung des Canon Druckers benötigt PROBLEM: Hallo Tech Online Store Support,\\n\\nich habe Schwierigkeiten, die drahtlose Verbindung für meinen Canon PIXMA MG3620 Drucker einzurichten. Trotz der Befolgung der bereitgestellten Anweisungen kann er sich nicht mit meinem Heimnetzwerk verbinden. Könnten Sie bitte Anleitungen zur Behebung dieses Problems anbieten? Zusätzlich wären alle Fehlersuche Schritte oder Ressourcen, die Sie bereitstellen könnten, sehr geschätzt.\\n\\nVielen Dank für Ihre Unterstützung.\\n\\nMit freundlichen Grüßen,\\n<name> SOLUTION: Hallo <name>,\\n\\nes tut mir leid zu hören, dass Sie Schwierigkeiten haben, Ihren Canon PIXMA MG3620 einzurichten. Hier sind einige Vorschläge zur Behebung des Problems:\\n\\n1. Stellen Sie sicher, dass Ihr Drucker und Router in Reichweite sind und keine Hindernisse im Weg stehen.\\n2. Überprüfen Sie, ob die WLAN-Anzeige am Drucker blau blinkt. Wenn nicht, drücken und halten Sie die Wi-Fi-Taste, bis sie blinkt, und drücken Sie dann die WPS-Taste an Ihrem Router.\\n3. Stellen Sie sicher, dass die Firmware Ihres Druckers auf der offiziellen Webseite von Canon aktualisiert ist.\\n4. Starten Sie Ihren Drucker und WLAN-Router neu.\\n5. Wenn es weiterhin nicht funktioniert, versuchen Sie, ihn über die Canon PRINT-App auf Ihrem Smartphone oder Tablet einzurichten.\\n\\nWenn diese Schritte nicht funktionieren, zögern Sie nicht, uns für weitere Unterstützung zu kontaktieren.\\n\\nMit freundlichen Grüßen,\\nTech Online Store Support PRIORITY: low LANGUAGE: de SUPPORT TEAM: Customer Service']"
      ]
     },
     "execution_count": 66,
     "metadata": {},
     "output_type": "execute_result"
    }
   ],
   "source": [
    "D, I = index.search(ticket_sample_embeddings, k=3)\n",
    "retrieved_chunk = [chunks[i] for i in I.tolist()[0]]\n",
    "retrieved_chunk"
   ]
  },
  {
   "cell_type": "markdown",
   "metadata": {},
   "source": [
    "# <font color='red'>7 - </font> Combine context and question in a prompt and generate response"
   ]
  },
  {
   "cell_type": "code",
   "execution_count": 67,
   "metadata": {},
   "outputs": [],
   "source": [
    "prompt = f\"\"\"\n",
    "Context information is below.\n",
    "---------------------\n",
    "{retrieved_chunk}\n",
    "---------------------\n",
    "Given the context information and not prior knowledge, answer the query.\n",
    "Query: {ticket_sample_problem}\n",
    "\"\"\""
   ]
  },
  {
   "cell_type": "code",
   "execution_count": null,
   "metadata": {},
   "outputs": [],
   "source": [
    "import os\n",
    "from mistralai import Mistral\n",
    "\n",
    "api_key = os.environ[\"MISTRAL_API_KEY\"]\n",
    "\n",
    "client = Mistral(api_key=api_key)"
   ]
  },
  {
   "cell_type": "code",
   "execution_count": 69,
   "metadata": {},
   "outputs": [],
   "source": [
    "def run_mistral(user_message, model=\"mistral-small-2506\"):\n",
    "    messages = [\n",
    "        {\n",
    "            \"role\": \"user\", \"content\": user_message\n",
    "        }\n",
    "    ]\n",
    "    chat_response = client.chat.complete(\n",
    "        model=model,\n",
    "        messages=messages\n",
    "    )\n",
    "    return (chat_response.choices[0].message.content)\n",
    "\n",
    "responses = run_mistral(prompt)"
   ]
  },
  {
   "cell_type": "code",
   "execution_count": 70,
   "metadata": {},
   "outputs": [
    {
     "name": "stdout",
     "output_type": "stream",
     "text": [
      "Hier sind einige Schritte, die Ihnen helfen können, den Druck über Ihren Canon-Drucker einzurichten:\n",
      "\n",
      "1. **Stellen Sie sicher, dass Ihr Drucker und Router in Reichweite sind** und keine Hindernisse die Verbindung stören.\n",
      "2. **Überprüfen Sie die WLAN-Anzeige am Drucker**: Falls sie nicht blau blinkt, drücken und halten Sie die Wi-Fi-Taste, bis sie blinkt, und drücken Sie dann die WPS-Taste an Ihrem Router.\n",
      "3. **Aktualisieren Sie die Firmware Ihres Druckers** auf der offiziellen Canon-Website.\n",
      "4. **Starten Sie Ihren Drucker und WLAN-Router neu**, um mögliche Verbindungsprobleme zu beheben.\n",
      "5. **Verwenden Sie die Canon PRINT-App** auf Ihrem Smartphone oder Tablet, um den Drucker einzurichten.\n",
      "\n",
      "Falls diese Schritte nicht funktionieren, können Sie uns gerne für weitere Unterstützung kontaktieren.\n",
      "\n",
      "Mit freundlichen Grüßen,\n",
      "Tech Online Store Support\n"
     ]
    }
   ],
   "source": [
    "print(responses)"
   ]
  },
  {
   "cell_type": "code",
   "execution_count": 71,
   "metadata": {},
   "outputs": [
    {
     "name": "stdout",
     "output_type": "stream",
     "text": [
      "Bitte stellen Sie sicher, dass die App installiert ist, verbinden Sie sich mit dem WLAN, wählen Sie den Drucker in den Einstellungen aus und drucken Sie.\n"
     ]
    }
   ],
   "source": [
    "print(ticket_sample_answer)"
   ]
  },
  {
   "cell_type": "code",
   "execution_count": 74,
   "metadata": {},
   "outputs": [
    {
     "data": {
      "text/plain": [
       "array([[0.64658844]], dtype=float32)"
      ]
     },
     "execution_count": 74,
     "metadata": {},
     "output_type": "execute_result"
    }
   ],
   "source": [
    "from sklearn.metrics.pairwise import cosine_similarity\n",
    "\n",
    "encoded_response = model.encode(responses)\n",
    "true_encoded_response = model.encode(ticket_sample_answer)\n",
    "\n",
    "cosine_similarity([encoded_response], [true_encoded_response])"
   ]
  }
 ],
 "metadata": {
  "kernelspec": {
   "display_name": "ai_ticket_env",
   "language": "python",
   "name": "python3"
  },
  "language_info": {
   "codemirror_mode": {
    "name": "ipython",
    "version": 3
   },
   "file_extension": ".py",
   "mimetype": "text/x-python",
   "name": "python",
   "nbconvert_exporter": "python",
   "pygments_lexer": "ipython3",
   "version": "3.10.18"
  }
 },
 "nbformat": 4,
 "nbformat_minor": 2
}
