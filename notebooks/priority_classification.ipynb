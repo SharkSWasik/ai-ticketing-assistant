{
 "cells": [
  {
   "cell_type": "markdown",
   "metadata": {},
   "source": [
    "# <font color='red'>1 - </font> Getting Data"
   ]
  },
  {
   "cell_type": "code",
   "execution_count": 1,
   "metadata": {},
   "outputs": [],
   "source": [
    "path = \"../dataset/data/\""
   ]
  },
  {
   "cell_type": "code",
   "execution_count": 2,
   "metadata": {},
   "outputs": [
    {
     "name": "stdout",
     "output_type": "stream",
     "text": [
      "../dataset/data/aa_dataset-tickets-multi-lang-5-2-50-version.csv\n",
      "../dataset/data/dataset-tickets-german_normalized.csv\n",
      "../dataset/data/dataset-tickets-german_normalized_50_5_2.csv\n",
      "../dataset/data/dataset-tickets-multi-lang-4-20k.csv\n",
      "../dataset/data/dataset-tickets-multi-lang3-4k.csv\n"
     ]
    },
    {
     "data": {
      "text/html": [
       "<div>\n",
       "<style scoped>\n",
       "    .dataframe tbody tr th:only-of-type {\n",
       "        vertical-align: middle;\n",
       "    }\n",
       "\n",
       "    .dataframe tbody tr th {\n",
       "        vertical-align: top;\n",
       "    }\n",
       "\n",
       "    .dataframe thead th {\n",
       "        text-align: right;\n",
       "    }\n",
       "</style>\n",
       "<table border=\"1\" class=\"dataframe\">\n",
       "  <thead>\n",
       "    <tr style=\"text-align: right;\">\n",
       "      <th></th>\n",
       "      <th>subject</th>\n",
       "      <th>body</th>\n",
       "      <th>answer</th>\n",
       "      <th>type</th>\n",
       "      <th>queue</th>\n",
       "      <th>priority</th>\n",
       "      <th>language</th>\n",
       "      <th>business_type</th>\n",
       "      <th>tag_1</th>\n",
       "      <th>tag_2</th>\n",
       "      <th>tag_3</th>\n",
       "      <th>tag_4</th>\n",
       "      <th>tag_5</th>\n",
       "      <th>tag_6</th>\n",
       "      <th>tag_7</th>\n",
       "      <th>tag_8</th>\n",
       "      <th>tag_9</th>\n",
       "    </tr>\n",
       "  </thead>\n",
       "  <tbody>\n",
       "    <tr>\n",
       "      <th>0</th>\n",
       "      <td>Problema crítico del servidor requiere atenció...</td>\n",
       "      <td>Es necesaria una investigación inmediata sobre...</td>\n",
       "      <td>Estamos investigando urgentemente el problema ...</td>\n",
       "      <td>Incident</td>\n",
       "      <td>Technical Support</td>\n",
       "      <td>high</td>\n",
       "      <td>es</td>\n",
       "      <td>IT Services</td>\n",
       "      <td>Urgent Issue</td>\n",
       "      <td>Service Disruption</td>\n",
       "      <td>Incident Report</td>\n",
       "      <td>Service Recovery</td>\n",
       "      <td>System Maintenance</td>\n",
       "      <td></td>\n",
       "      <td></td>\n",
       "      <td></td>\n",
       "      <td></td>\n",
       "    </tr>\n",
       "    <tr>\n",
       "      <th>1</th>\n",
       "      <td>Anfrage zur Verfügbarkeit des Dell XPS 13 9310</td>\n",
       "      <td>Sehr geehrter Kundenservice,\\n\\nich hoffe, die...</td>\n",
       "      <td>Sehr geehrter &lt;name&gt;,\\n\\nvielen Dank, dass Sie...</td>\n",
       "      <td>Request</td>\n",
       "      <td>Customer Service</td>\n",
       "      <td>low</td>\n",
       "      <td>de</td>\n",
       "      <td>Tech Online Store</td>\n",
       "      <td>Sales Inquiry</td>\n",
       "      <td>Product Support</td>\n",
       "      <td>Customer Service</td>\n",
       "      <td>Order Issue</td>\n",
       "      <td>Returns and Exchanges</td>\n",
       "      <td></td>\n",
       "      <td></td>\n",
       "      <td></td>\n",
       "      <td></td>\n",
       "    </tr>\n",
       "    <tr>\n",
       "      <th>2</th>\n",
       "      <td>Erro na Autocompletação de Código do IntelliJ ...</td>\n",
       "      <td>Prezado Suporte ao Cliente &lt;name&gt;,\\n\\nEstou es...</td>\n",
       "      <td>Prezado &lt;name&gt;,\\n\\nObrigado por entrar em cont...</td>\n",
       "      <td>Incident</td>\n",
       "      <td>Technical Support</td>\n",
       "      <td>high</td>\n",
       "      <td>pt</td>\n",
       "      <td>IT Services</td>\n",
       "      <td>Technical Support</td>\n",
       "      <td>Software Bug</td>\n",
       "      <td>Problem Resolution</td>\n",
       "      <td>Urgent Issue</td>\n",
       "      <td>IT Support</td>\n",
       "      <td></td>\n",
       "      <td></td>\n",
       "      <td></td>\n",
       "      <td></td>\n",
       "    </tr>\n",
       "    <tr>\n",
       "      <th>3</th>\n",
       "      <td>Urgent Assistance Required: AWS Service</td>\n",
       "      <td>Dear IT Services Support Team, \\n\\nI am reachi...</td>\n",
       "      <td>Dear &lt;name&gt;,\\n\\nThank you for reaching out reg...</td>\n",
       "      <td>Request</td>\n",
       "      <td>IT Support</td>\n",
       "      <td>high</td>\n",
       "      <td>en</td>\n",
       "      <td>IT Services</td>\n",
       "      <td>IT Support</td>\n",
       "      <td>Urgent Issue</td>\n",
       "      <td>Service Notification</td>\n",
       "      <td>Cloud Services</td>\n",
       "      <td>Problem Resolution</td>\n",
       "      <td>Technical Guidance</td>\n",
       "      <td>Performance Tuning</td>\n",
       "      <td></td>\n",
       "      <td></td>\n",
       "    </tr>\n",
       "    <tr>\n",
       "      <th>4</th>\n",
       "      <td>Problème d'affichage de MacBook Air</td>\n",
       "      <td>Cher équipe de support du magasin en ligne Tec...</td>\n",
       "      <td>Cher &lt;name&gt;,\\n\\nMerci de nous avoir contactés ...</td>\n",
       "      <td>Incident</td>\n",
       "      <td>Product Support</td>\n",
       "      <td>low</td>\n",
       "      <td>fr</td>\n",
       "      <td>Tech Online Store</td>\n",
       "      <td>Technical Support</td>\n",
       "      <td>Product Support</td>\n",
       "      <td>Hardware Failure</td>\n",
       "      <td>Service Recovery</td>\n",
       "      <td>Routine Request</td>\n",
       "      <td></td>\n",
       "      <td></td>\n",
       "      <td></td>\n",
       "      <td></td>\n",
       "    </tr>\n",
       "    <tr>\n",
       "      <th>...</th>\n",
       "      <td>...</td>\n",
       "      <td>...</td>\n",
       "      <td>...</td>\n",
       "      <td>...</td>\n",
       "      <td>...</td>\n",
       "      <td>...</td>\n",
       "      <td>...</td>\n",
       "      <td>...</td>\n",
       "      <td>...</td>\n",
       "      <td>...</td>\n",
       "      <td>...</td>\n",
       "      <td>...</td>\n",
       "      <td>...</td>\n",
       "      <td>...</td>\n",
       "      <td>...</td>\n",
       "      <td>...</td>\n",
       "      <td>...</td>\n",
       "    </tr>\n",
       "    <tr>\n",
       "      <th>3995</th>\n",
       "      <td>Problem mit der HP DeskJet 3755 WLAN-Verbindung</td>\n",
       "      <td>Sehr geehrter Tech Online Store Support, mein ...</td>\n",
       "      <td>Sehr geehrter &lt;name&gt;, bitte stellen Sie sicher...</td>\n",
       "      <td>Problem</td>\n",
       "      <td>Customer Service</td>\n",
       "      <td>low</td>\n",
       "      <td>de</td>\n",
       "      <td>Tech Online Store</td>\n",
       "      <td>Technical Support</td>\n",
       "      <td>Product Support</td>\n",
       "      <td>Hardware Failure</td>\n",
       "      <td>Network Issue</td>\n",
       "      <td>Problem Resolution</td>\n",
       "      <td></td>\n",
       "      <td></td>\n",
       "      <td></td>\n",
       "      <td></td>\n",
       "    </tr>\n",
       "    <tr>\n",
       "      <th>3996</th>\n",
       "      <td>Problemas com a impressora HP DeskJet 3755</td>\n",
       "      <td>Olá Suporte ao Cliente,\\n\\nEstou escrevendo pa...</td>\n",
       "      <td>Assunto: Re: Problemas com a impressora HP Des...</td>\n",
       "      <td>Incident</td>\n",
       "      <td>Product Support</td>\n",
       "      <td>medium</td>\n",
       "      <td>pt</td>\n",
       "      <td>Tech Online Store</td>\n",
       "      <td>Technical Support</td>\n",
       "      <td>Printer Issues</td>\n",
       "      <td>Hardware Failure</td>\n",
       "      <td>Network Issue</td>\n",
       "      <td>Problem Resolution</td>\n",
       "      <td>Customer Service</td>\n",
       "      <td></td>\n",
       "      <td></td>\n",
       "      <td></td>\n",
       "    </tr>\n",
       "    <tr>\n",
       "      <th>3997</th>\n",
       "      <td>Problema urgente con el envío</td>\n",
       "      <td>Estimado equipo de atención al cliente, me dir...</td>\n",
       "      <td>Estimado &lt;name&gt;,\\n\\nNos disculpamos por el ret...</td>\n",
       "      <td>Incident</td>\n",
       "      <td>Service Outages and Maintenance</td>\n",
       "      <td>high</td>\n",
       "      <td>es</td>\n",
       "      <td>Online Store</td>\n",
       "      <td>Shipping Delay</td>\n",
       "      <td>Customer Service</td>\n",
       "      <td>Order Issue</td>\n",
       "      <td>Urgent Issue</td>\n",
       "      <td>Problem Resolution</td>\n",
       "      <td></td>\n",
       "      <td></td>\n",
       "      <td></td>\n",
       "      <td></td>\n",
       "    </tr>\n",
       "    <tr>\n",
       "      <th>3998</th>\n",
       "      <td></td>\n",
       "      <td>Cher Service Client, nous rencontrons des prob...</td>\n",
       "      <td>Cher &lt;name&gt;,\\n\\nMerci de nous avoir contactés ...</td>\n",
       "      <td>Incident</td>\n",
       "      <td>Technical Support</td>\n",
       "      <td>high</td>\n",
       "      <td>fr</td>\n",
       "      <td>IT Services</td>\n",
       "      <td>Technical Support</td>\n",
       "      <td>IT Support</td>\n",
       "      <td>Network Issue</td>\n",
       "      <td>Urgent Issue</td>\n",
       "      <td>Problem Resolution</td>\n",
       "      <td>Service Recovery</td>\n",
       "      <td></td>\n",
       "      <td></td>\n",
       "      <td></td>\n",
       "    </tr>\n",
       "    <tr>\n",
       "      <th>3999</th>\n",
       "      <td>Overcharge on yearly Microsoft Office 365 subs...</td>\n",
       "      <td>Dear Tech Online Store Customer Support,\\n\\nI ...</td>\n",
       "      <td>Dear &lt;name&gt;,\\n\\nThank you for reaching out. We...</td>\n",
       "      <td>Problem</td>\n",
       "      <td>Billing and Payments</td>\n",
       "      <td>high</td>\n",
       "      <td>en</td>\n",
       "      <td>Tech Online Store</td>\n",
       "      <td>Billing Issue</td>\n",
       "      <td>Customer Service</td>\n",
       "      <td>Account Assistance</td>\n",
       "      <td>Problem Resolution</td>\n",
       "      <td>Payment Processing</td>\n",
       "      <td></td>\n",
       "      <td></td>\n",
       "      <td></td>\n",
       "      <td></td>\n",
       "    </tr>\n",
       "  </tbody>\n",
       "</table>\n",
       "<p>4000 rows × 17 columns</p>\n",
       "</div>"
      ],
      "text/plain": [
       "                                                subject  \\\n",
       "0     Problema crítico del servidor requiere atenció...   \n",
       "1        Anfrage zur Verfügbarkeit des Dell XPS 13 9310   \n",
       "2     Erro na Autocompletação de Código do IntelliJ ...   \n",
       "3               Urgent Assistance Required: AWS Service   \n",
       "4                   Problème d'affichage de MacBook Air   \n",
       "...                                                 ...   \n",
       "3995    Problem mit der HP DeskJet 3755 WLAN-Verbindung   \n",
       "3996         Problemas com a impressora HP DeskJet 3755   \n",
       "3997                      Problema urgente con el envío   \n",
       "3998                                                      \n",
       "3999  Overcharge on yearly Microsoft Office 365 subs...   \n",
       "\n",
       "                                                   body  \\\n",
       "0     Es necesaria una investigación inmediata sobre...   \n",
       "1     Sehr geehrter Kundenservice,\\n\\nich hoffe, die...   \n",
       "2     Prezado Suporte ao Cliente <name>,\\n\\nEstou es...   \n",
       "3     Dear IT Services Support Team, \\n\\nI am reachi...   \n",
       "4     Cher équipe de support du magasin en ligne Tec...   \n",
       "...                                                 ...   \n",
       "3995  Sehr geehrter Tech Online Store Support, mein ...   \n",
       "3996  Olá Suporte ao Cliente,\\n\\nEstou escrevendo pa...   \n",
       "3997  Estimado equipo de atención al cliente, me dir...   \n",
       "3998  Cher Service Client, nous rencontrons des prob...   \n",
       "3999  Dear Tech Online Store Customer Support,\\n\\nI ...   \n",
       "\n",
       "                                                 answer      type  \\\n",
       "0     Estamos investigando urgentemente el problema ...  Incident   \n",
       "1     Sehr geehrter <name>,\\n\\nvielen Dank, dass Sie...   Request   \n",
       "2     Prezado <name>,\\n\\nObrigado por entrar em cont...  Incident   \n",
       "3     Dear <name>,\\n\\nThank you for reaching out reg...   Request   \n",
       "4     Cher <name>,\\n\\nMerci de nous avoir contactés ...  Incident   \n",
       "...                                                 ...       ...   \n",
       "3995  Sehr geehrter <name>, bitte stellen Sie sicher...   Problem   \n",
       "3996  Assunto: Re: Problemas com a impressora HP Des...  Incident   \n",
       "3997  Estimado <name>,\\n\\nNos disculpamos por el ret...  Incident   \n",
       "3998  Cher <name>,\\n\\nMerci de nous avoir contactés ...  Incident   \n",
       "3999  Dear <name>,\\n\\nThank you for reaching out. We...   Problem   \n",
       "\n",
       "                                queue priority language      business_type  \\\n",
       "0                   Technical Support     high       es        IT Services   \n",
       "1                    Customer Service      low       de  Tech Online Store   \n",
       "2                   Technical Support     high       pt        IT Services   \n",
       "3                          IT Support     high       en        IT Services   \n",
       "4                     Product Support      low       fr  Tech Online Store   \n",
       "...                               ...      ...      ...                ...   \n",
       "3995                 Customer Service      low       de  Tech Online Store   \n",
       "3996                  Product Support   medium       pt  Tech Online Store   \n",
       "3997  Service Outages and Maintenance     high       es       Online Store   \n",
       "3998                Technical Support     high       fr        IT Services   \n",
       "3999             Billing and Payments     high       en  Tech Online Store   \n",
       "\n",
       "                  tag_1               tag_2                 tag_3  \\\n",
       "0          Urgent Issue  Service Disruption       Incident Report   \n",
       "1         Sales Inquiry     Product Support      Customer Service   \n",
       "2     Technical Support        Software Bug    Problem Resolution   \n",
       "3            IT Support        Urgent Issue  Service Notification   \n",
       "4     Technical Support     Product Support      Hardware Failure   \n",
       "...                 ...                 ...                   ...   \n",
       "3995  Technical Support     Product Support      Hardware Failure   \n",
       "3996  Technical Support      Printer Issues      Hardware Failure   \n",
       "3997     Shipping Delay    Customer Service           Order Issue   \n",
       "3998  Technical Support          IT Support         Network Issue   \n",
       "3999      Billing Issue    Customer Service    Account Assistance   \n",
       "\n",
       "                   tag_4                  tag_5               tag_6  \\\n",
       "0       Service Recovery     System Maintenance                       \n",
       "1            Order Issue  Returns and Exchanges                       \n",
       "2           Urgent Issue             IT Support                       \n",
       "3         Cloud Services     Problem Resolution  Technical Guidance   \n",
       "4       Service Recovery        Routine Request                       \n",
       "...                  ...                    ...                 ...   \n",
       "3995       Network Issue     Problem Resolution                       \n",
       "3996       Network Issue     Problem Resolution    Customer Service   \n",
       "3997        Urgent Issue     Problem Resolution                       \n",
       "3998        Urgent Issue     Problem Resolution    Service Recovery   \n",
       "3999  Problem Resolution     Payment Processing                       \n",
       "\n",
       "                   tag_7 tag_8 tag_9  \n",
       "0                                     \n",
       "1                                     \n",
       "2                                     \n",
       "3     Performance Tuning              \n",
       "4                                     \n",
       "...                  ...   ...   ...  \n",
       "3995                                  \n",
       "3996                                  \n",
       "3997                                  \n",
       "3998                                  \n",
       "3999                                  \n",
       "\n",
       "[4000 rows x 17 columns]"
      ]
     },
     "execution_count": 2,
     "metadata": {},
     "output_type": "execute_result"
    }
   ],
   "source": [
    "import pandas as pd\n",
    "import glob\n",
    "\n",
    "for file_path in glob.glob(path + \"*.csv\"):\n",
    "    print(file_path)\n",
    "\n",
    "df = pd.read_csv(\"../dataset/data/dataset-tickets-multi-lang3-4k.csv\")\n",
    "\n",
    "df.head()\n",
    "\n",
    "df.fillna('')"
   ]
  },
  {
   "cell_type": "markdown",
   "metadata": {},
   "source": [
    "# <font color='red'>2 - </font> Data Analysis"
   ]
  },
  {
   "cell_type": "code",
   "execution_count": 3,
   "metadata": {},
   "outputs": [
    {
     "name": "stdout",
     "output_type": "stream",
     "text": [
      "<class 'pandas.core.frame.DataFrame'>\n",
      "RangeIndex: 4000 entries, 0 to 3999\n",
      "Data columns (total 17 columns):\n",
      " #   Column         Non-Null Count  Dtype  \n",
      "---  ------         --------------  -----  \n",
      " 0   subject        3533 non-null   object \n",
      " 1   body           3999 non-null   object \n",
      " 2   answer         4000 non-null   object \n",
      " 3   type           4000 non-null   object \n",
      " 4   queue          4000 non-null   object \n",
      " 5   priority       4000 non-null   object \n",
      " 6   language       4000 non-null   object \n",
      " 7   business_type  4000 non-null   object \n",
      " 8   tag_1          4000 non-null   object \n",
      " 9   tag_2          4000 non-null   object \n",
      " 10  tag_3          4000 non-null   object \n",
      " 11  tag_4          3999 non-null   object \n",
      " 12  tag_5          3363 non-null   object \n",
      " 13  tag_6          2181 non-null   object \n",
      " 14  tag_7          1045 non-null   object \n",
      " 15  tag_8          269 non-null    object \n",
      " 16  tag_9          0 non-null      float64\n",
      "dtypes: float64(1), object(16)\n",
      "memory usage: 531.4+ KB\n"
     ]
    }
   ],
   "source": [
    "df.info()"
   ]
  },
  {
   "cell_type": "code",
   "execution_count": 4,
   "metadata": {},
   "outputs": [
    {
     "data": {
      "text/plain": [
       "Text(0, 0.5, 'Number of tickets')"
      ]
     },
     "execution_count": 4,
     "metadata": {},
     "output_type": "execute_result"
    },
    {
     "data": {
      "image/png": "[encoded data removed]",
      "text/plain": [
       "<Figure size 640x480 with 1 Axes>"
      ]
     },
     "metadata": {},
     "output_type": "display_data"
    },
    {
     "data": {
      "image/png": "[encoded data removed]",
      "text/plain": [
       "<Figure size 640x480 with 1 Axes>"
      ]
     },
     "metadata": {},
     "output_type": "display_data"
    }
   ],
   "source": [
    "import matplotlib.pyplot as plt\n",
    "\n",
    "counts = df['priority'].value_counts()[['high', 'medium', 'low']]\n",
    "counts.plot(kind=\"bar\", stacked=True, color=['#ff9999', '#ffff99', '#ffcc99', ] )\n",
    "plt.title(\"Number of tickets per priority\")\n",
    "plt.ylabel(\"Number of tickets\")\n",
    "\n",
    "counts = df.groupby(['language', 'priority']).size().unstack(fill_value=0)\n",
    "counts.plot(kind=\"bar\", stacked=True, color=['#ff9999', '#ffff99', '#ffcc99', ] )\n",
    "plt.title(\"Number of tickets per language\")\n",
    "plt.ylabel(\"Number of tickets\")"
   ]
  },
  {
   "cell_type": "code",
   "execution_count": 5,
   "metadata": {},
   "outputs": [
    {
     "data": {
      "text/plain": [
       "Text(0.5, 0, 'Number of tickets')"
      ]
     },
     "execution_count": 5,
     "metadata": {},
     "output_type": "execute_result"
    },
    {
     "data": {
      "image/png": "[encoded data removed]",
      "text/plain": [
       "<Figure size 640x480 with 1 Axes>"
      ]
     },
     "metadata": {},
     "output_type": "display_data"
    }
   ],
   "source": [
    "counts = df.groupby(['queue']).size().sort_values(ascending=True)\n",
    "counts.plot(kind=\"barh\", stacked=True, colormap=\"Set2\")\n",
    "plt.title(\"Number of tickets per queue type\")\n",
    "plt.xlabel(\"Number of tickets\")"
   ]
  },
  {
   "cell_type": "code",
   "execution_count": 6,
   "metadata": {},
   "outputs": [
    {
     "data": {
      "text/plain": [
       "Text(0.5, 0, 'Number of tickets')"
      ]
     },
     "execution_count": 6,
     "metadata": {},
     "output_type": "execute_result"
    },
    {
     "data": {
      "image/png": "[encoded data removed]",
      "text/plain": [
       "<Figure size 640x480 with 1 Axes>"
      ]
     },
     "metadata": {},
     "output_type": "display_data"
    }
   ],
   "source": [
    "counts = df.groupby(['type']).size().sort_values(ascending=True)\n",
    "counts.plot(kind=\"barh\", stacked=True, colormap=\"Set2\")\n",
    "plt.title(\"Number of tickets per queue type\")\n",
    "plt.xlabel(\"Number of tickets\")"
   ]
  },
  {
   "cell_type": "code",
   "execution_count": 7,
   "metadata": {},
   "outputs": [
    {
     "data": {
      "text/plain": [
       "Text(0.5, 0, 'Number of tickets')"
      ]
     },
     "execution_count": 7,
     "metadata": {},
     "output_type": "execute_result"
    },
    {
     "data": {
      "image/png": "[encoded data removed]",
      "text/plain": [
       "<Figure size 640x480 with 1 Axes>"
      ]
     },
     "metadata": {},
     "output_type": "display_data"
    }
   ],
   "source": [
    "counts = df.groupby(['business_type']).size().sort_values(ascending=True)\n",
    "counts.plot(kind=\"barh\", stacked=True, colormap=\"Set2\")\n",
    "plt.title(\"Number of tickets per business type\")\n",
    "plt.xlabel(\"Number of tickets\")"
   ]
  },
  {
   "cell_type": "markdown",
   "metadata": {},
   "source": [
    "# <font color='red'>3 - </font> Training"
   ]
  },
  {
   "cell_type": "code",
   "execution_count": 8,
   "metadata": {},
   "outputs": [],
   "source": [
    "X = (df[\"body\"].values.astype(str) + df[\"queue\"].values.astype(str)).reshape(-1)\n",
    "y = df[\"priority\"].values"
   ]
  },
  {
   "cell_type": "code",
   "execution_count": 9,
   "metadata": {},
   "outputs": [
    {
     "data": {
      "application/vnd.jupyter.widget-view+json": {
       "model_id": "053cfa5fe5024d3cb56ce4154f12917a",
       "version_major": 2,
       "version_minor": 0
      },
      "text/plain": [
       "modules.json:   0%|          | 0.00/387 [00:00<?, ?B/s]"
      ]
     },
     "metadata": {},
     "output_type": "display_data"
    },
    {
     "data": {
      "application/vnd.jupyter.widget-view+json": {
       "model_id": "55f427d0a7884b86b664470f914907fd",
       "version_major": 2,
       "version_minor": 0
      },
      "text/plain": [
       "README.md: 0.00B [00:00, ?B/s]"
      ]
     },
     "metadata": {},
     "output_type": "display_data"
    },
    {
     "data": {
      "application/vnd.jupyter.widget-view+json": {
       "model_id": "8b10ee895b7e4c96ad9e11a6c2f860fc",
       "version_major": 2,
       "version_minor": 0
      },
      "text/plain": [
       "sentence_bert_config.json:   0%|          | 0.00/57.0 [00:00<?, ?B/s]"
      ]
     },
     "metadata": {},
     "output_type": "display_data"
    },
    {
     "data": {
      "application/vnd.jupyter.widget-view+json": {
       "model_id": "3c6d5a2b51794dd7ba2829e141bf8656",
       "version_major": 2,
       "version_minor": 0
      },
      "text/plain": [
       "config.json:   0%|          | 0.00/200 [00:00<?, ?B/s]"
      ]
     },
     "metadata": {},
     "output_type": "display_data"
    }
   ],
   "source": [
    "from sentence_transformers import SentenceTransformer\n",
    "model = SentenceTransformer('intfloat/multilingual-e5-small')\n",
    "embeddings = model.encode(X, normalize_embeddings=True)"
   ]
  },
  {
   "cell_type": "code",
   "execution_count": 29,
   "metadata": {},
   "outputs": [
    {
     "data": {
      "application/vnd.jupyter.widget-view+json": {
       "model_id": "9882c34e67b54ca99d28c612fdf1199d",
       "version_major": 2,
       "version_minor": 0
      },
      "text/plain": [
       "modules.json:   0%|          | 0.00/229 [00:00<?, ?B/s]"
      ]
     },
     "metadata": {},
     "output_type": "display_data"
    },
    {
     "data": {
      "application/vnd.jupyter.widget-view+json": {
       "model_id": "acbee534a4024b4c927994031b26f2df",
       "version_major": 2,
       "version_minor": 0
      },
      "text/plain": [
       "config_sentence_transformers.json:   0%|          | 0.00/122 [00:00<?, ?B/s]"
      ]
     },
     "metadata": {},
     "output_type": "display_data"
    },
    {
     "data": {
      "application/vnd.jupyter.widget-view+json": {
       "model_id": "8f5c78cec2df438ba6d44ed2c8fb7690",
       "version_major": 2,
       "version_minor": 0
      },
      "text/plain": [
       "README.md: 0.00B [00:00, ?B/s]"
      ]
     },
     "metadata": {},
     "output_type": "display_data"
    },
    {
     "data": {
      "application/vnd.jupyter.widget-view+json": {
       "model_id": "e38c88954a3c4031b2b3c7673f8dc1a1",
       "version_major": 2,
       "version_minor": 0
      },
      "text/plain": [
       "sentence_bert_config.json:   0%|          | 0.00/53.0 [00:00<?, ?B/s]"
      ]
     },
     "metadata": {},
     "output_type": "display_data"
    },
    {
     "data": {
      "application/vnd.jupyter.widget-view+json": {
       "model_id": "05050f3f42cd45fd9fd846147f6b59c5",
       "version_major": 2,
       "version_minor": 0
      },
      "text/plain": [
       "config.json:   0%|          | 0.00/723 [00:00<?, ?B/s]"
      ]
     },
     "metadata": {},
     "output_type": "display_data"
    },
    {
     "data": {
      "application/vnd.jupyter.widget-view+json": {
       "model_id": "5a7aa0340c634e2089d0b84cb716d80b",
       "version_major": 2,
       "version_minor": 0
      },
      "text/plain": [
       "model.safetensors:   0%|          | 0.00/1.11G [00:00<?, ?B/s]"
      ]
     },
     "metadata": {},
     "output_type": "display_data"
    },
    {
     "data": {
      "application/vnd.jupyter.widget-view+json": {
       "model_id": "6d9a340f20e54be89ccf8605c91801aa",
       "version_major": 2,
       "version_minor": 0
      },
      "text/plain": [
       "tokenizer_config.json:   0%|          | 0.00/402 [00:00<?, ?B/s]"
      ]
     },
     "metadata": {},
     "output_type": "display_data"
    },
    {
     "data": {
      "application/vnd.jupyter.widget-view+json": {
       "model_id": "5140dcf44f2540febd46f9157699b048",
       "version_major": 2,
       "version_minor": 0
      },
      "text/plain": [
       "sentencepiece.bpe.model:   0%|          | 0.00/5.07M [00:00<?, ?B/s]"
      ]
     },
     "metadata": {},
     "output_type": "display_data"
    },
    {
     "data": {
      "application/vnd.jupyter.widget-view+json": {
       "model_id": "198d3f7a053f4683a4c28cf33d87a252",
       "version_major": 2,
       "version_minor": 0
      },
      "text/plain": [
       "tokenizer.json: 0.00B [00:00, ?B/s]"
      ]
     },
     "metadata": {},
     "output_type": "display_data"
    },
    {
     "data": {
      "application/vnd.jupyter.widget-view+json": {
       "model_id": "028b5e0233fa4053bf84cf7bb0b7144e",
       "version_major": 2,
       "version_minor": 0
      },
      "text/plain": [
       "special_tokens_map.json:   0%|          | 0.00/239 [00:00<?, ?B/s]"
      ]
     },
     "metadata": {},
     "output_type": "display_data"
    },
    {
     "data": {
      "application/vnd.jupyter.widget-view+json": {
       "model_id": "fe7036f8754c410fb9e4263bb4bd9e36",
       "version_major": 2,
       "version_minor": 0
      },
      "text/plain": [
       "config.json:   0%|          | 0.00/190 [00:00<?, ?B/s]"
      ]
     },
     "metadata": {},
     "output_type": "display_data"
    },
    {
     "name": "stdout",
     "output_type": "stream",
     "text": [
      "[[-0.07984628  0.00919094 -0.00844599 ...  0.04647206 -0.11899899\n",
      "  -0.02774941]\n",
      " [ 0.04775039 -0.05319156 -0.00529507 ...  0.0817351  -0.14321093\n",
      "  -0.10940149]\n",
      " [ 0.02361467  0.11953274 -0.00947906 ... -0.01934896  0.0522539\n",
      "  -0.05897603]\n",
      " ...\n",
      " [ 0.03776713 -0.01673135 -0.00420833 ...  0.0104708  -0.0882931\n",
      "  -0.1187783 ]\n",
      " [ 0.00970273 -0.03156212 -0.00874969 ...  0.07893939 -0.05471355\n",
      "  -0.00138463]\n",
      " [ 0.06275392 -0.00173575 -0.00175602 ...  0.0500068  -0.03599924\n",
      "  -0.01785294]]\n"
     ]
    }
   ],
   "source": [
    "from sentence_transformers import SentenceTransformer\n",
    "\n",
    "model = SentenceTransformer('sentence-transformers/paraphrase-multilingual-mpnet-base-v2')\n",
    "embeddings = model.encode(X)\n",
    "print(embeddings)"
   ]
  },
  {
   "cell_type": "code",
   "execution_count": 10,
   "metadata": {},
   "outputs": [
    {
     "data": {
      "text/plain": [
       "(4000, 100)"
      ]
     },
     "execution_count": 10,
     "metadata": {},
     "output_type": "execute_result"
    }
   ],
   "source": [
    "import numpy as np\n",
    "\n",
    "from sklearn.decomposition import PCA\n",
    "\n",
    "pca = PCA(n_components=100)\n",
    "\n",
    "reduced_embedding = pca.fit_transform(embeddings)\n",
    "reduced_embedding.shape"
   ]
  },
  {
   "cell_type": "code",
   "execution_count": 30,
   "metadata": {},
   "outputs": [],
   "source": [
    "from sklearn.preprocessing import LabelEncoder\n",
    "\n",
    "label_encoder = LabelEncoder()\n",
    "y_encoded = label_encoder.fit_transform(y)"
   ]
  },
  {
   "cell_type": "code",
   "execution_count": 31,
   "metadata": {},
   "outputs": [],
   "source": [
    "columns = [f\"feature_{i+1}\" for i in range(embeddings.shape[1])]\n",
    "data = pd.DataFrame(embeddings, columns=columns)\n",
    "data[\"y\"] = y_encoded.tolist()"
   ]
  },
  {
   "cell_type": "code",
   "execution_count": 32,
   "metadata": {},
   "outputs": [],
   "source": [
    "from sklearn.model_selection import train_test_split\n",
    "\n",
    "X_train, X_test, y_train, y_test = train_test_split(data[columns], data[\"y\"], stratify=y_encoded, random_state=42)"
   ]
  },
  {
   "cell_type": "code",
   "execution_count": 33,
   "metadata": {},
   "outputs": [
    {
     "data": {
      "text/html": [
       "<div>\n",
       "<style scoped>\n",
       "    .dataframe tbody tr th:only-of-type {\n",
       "        vertical-align: middle;\n",
       "    }\n",
       "\n",
       "    .dataframe tbody tr th {\n",
       "        vertical-align: top;\n",
       "    }\n",
       "\n",
       "    .dataframe thead th {\n",
       "        text-align: right;\n",
       "    }\n",
       "</style>\n",
       "<table border=\"1\" class=\"dataframe\">\n",
       "  <thead>\n",
       "    <tr style=\"text-align: right;\">\n",
       "      <th></th>\n",
       "      <th>feature_1</th>\n",
       "      <th>feature_2</th>\n",
       "      <th>feature_3</th>\n",
       "      <th>feature_4</th>\n",
       "      <th>feature_5</th>\n",
       "      <th>feature_6</th>\n",
       "      <th>feature_7</th>\n",
       "      <th>feature_8</th>\n",
       "      <th>feature_9</th>\n",
       "      <th>feature_10</th>\n",
       "      <th>...</th>\n",
       "      <th>feature_759</th>\n",
       "      <th>feature_760</th>\n",
       "      <th>feature_761</th>\n",
       "      <th>feature_762</th>\n",
       "      <th>feature_763</th>\n",
       "      <th>feature_764</th>\n",
       "      <th>feature_765</th>\n",
       "      <th>feature_766</th>\n",
       "      <th>feature_767</th>\n",
       "      <th>feature_768</th>\n",
       "    </tr>\n",
       "  </thead>\n",
       "  <tbody>\n",
       "    <tr>\n",
       "      <th>194</th>\n",
       "      <td>-0.014035</td>\n",
       "      <td>0.179398</td>\n",
       "      <td>-0.011840</td>\n",
       "      <td>0.048945</td>\n",
       "      <td>0.006982</td>\n",
       "      <td>-0.013823</td>\n",
       "      <td>0.031506</td>\n",
       "      <td>0.036887</td>\n",
       "      <td>-0.131108</td>\n",
       "      <td>-0.061941</td>\n",
       "      <td>...</td>\n",
       "      <td>-0.036472</td>\n",
       "      <td>0.093655</td>\n",
       "      <td>-0.072703</td>\n",
       "      <td>0.016496</td>\n",
       "      <td>-0.080624</td>\n",
       "      <td>0.052460</td>\n",
       "      <td>-0.082012</td>\n",
       "      <td>-0.050068</td>\n",
       "      <td>-0.018877</td>\n",
       "      <td>-0.130399</td>\n",
       "    </tr>\n",
       "    <tr>\n",
       "      <th>3506</th>\n",
       "      <td>0.092196</td>\n",
       "      <td>0.030839</td>\n",
       "      <td>-0.008695</td>\n",
       "      <td>-0.012430</td>\n",
       "      <td>0.131235</td>\n",
       "      <td>0.048914</td>\n",
       "      <td>0.035387</td>\n",
       "      <td>-0.029484</td>\n",
       "      <td>-0.093771</td>\n",
       "      <td>0.013931</td>\n",
       "      <td>...</td>\n",
       "      <td>0.022201</td>\n",
       "      <td>0.013015</td>\n",
       "      <td>-0.002746</td>\n",
       "      <td>-0.045255</td>\n",
       "      <td>0.023561</td>\n",
       "      <td>-0.053819</td>\n",
       "      <td>-0.047599</td>\n",
       "      <td>0.046181</td>\n",
       "      <td>-0.006222</td>\n",
       "      <td>0.010766</td>\n",
       "    </tr>\n",
       "    <tr>\n",
       "      <th>1529</th>\n",
       "      <td>0.059866</td>\n",
       "      <td>0.016058</td>\n",
       "      <td>-0.003352</td>\n",
       "      <td>-0.011466</td>\n",
       "      <td>0.025661</td>\n",
       "      <td>-0.033990</td>\n",
       "      <td>-0.013853</td>\n",
       "      <td>0.041194</td>\n",
       "      <td>-0.000792</td>\n",
       "      <td>0.067506</td>\n",
       "      <td>...</td>\n",
       "      <td>0.025490</td>\n",
       "      <td>0.034141</td>\n",
       "      <td>0.053942</td>\n",
       "      <td>-0.050460</td>\n",
       "      <td>0.004883</td>\n",
       "      <td>-0.312909</td>\n",
       "      <td>-0.057032</td>\n",
       "      <td>0.129180</td>\n",
       "      <td>-0.166006</td>\n",
       "      <td>-0.013066</td>\n",
       "    </tr>\n",
       "    <tr>\n",
       "      <th>1612</th>\n",
       "      <td>0.020947</td>\n",
       "      <td>-0.095280</td>\n",
       "      <td>-0.003043</td>\n",
       "      <td>0.003219</td>\n",
       "      <td>0.051609</td>\n",
       "      <td>0.089707</td>\n",
       "      <td>0.036236</td>\n",
       "      <td>-0.009965</td>\n",
       "      <td>-0.116091</td>\n",
       "      <td>0.055562</td>\n",
       "      <td>...</td>\n",
       "      <td>0.091800</td>\n",
       "      <td>0.004487</td>\n",
       "      <td>0.164503</td>\n",
       "      <td>-0.043527</td>\n",
       "      <td>-0.052374</td>\n",
       "      <td>0.065043</td>\n",
       "      <td>0.022274</td>\n",
       "      <td>0.169554</td>\n",
       "      <td>-0.058855</td>\n",
       "      <td>0.051095</td>\n",
       "    </tr>\n",
       "    <tr>\n",
       "      <th>264</th>\n",
       "      <td>0.010327</td>\n",
       "      <td>0.060305</td>\n",
       "      <td>-0.009822</td>\n",
       "      <td>0.042810</td>\n",
       "      <td>0.066558</td>\n",
       "      <td>0.064214</td>\n",
       "      <td>-0.056780</td>\n",
       "      <td>0.018200</td>\n",
       "      <td>-0.081322</td>\n",
       "      <td>0.048440</td>\n",
       "      <td>...</td>\n",
       "      <td>0.045254</td>\n",
       "      <td>0.016943</td>\n",
       "      <td>0.004782</td>\n",
       "      <td>-0.036502</td>\n",
       "      <td>0.034974</td>\n",
       "      <td>-0.169694</td>\n",
       "      <td>0.008886</td>\n",
       "      <td>0.082216</td>\n",
       "      <td>0.000078</td>\n",
       "      <td>-0.004175</td>\n",
       "    </tr>\n",
       "    <tr>\n",
       "      <th>...</th>\n",
       "      <td>...</td>\n",
       "      <td>...</td>\n",
       "      <td>...</td>\n",
       "      <td>...</td>\n",
       "      <td>...</td>\n",
       "      <td>...</td>\n",
       "      <td>...</td>\n",
       "      <td>...</td>\n",
       "      <td>...</td>\n",
       "      <td>...</td>\n",
       "      <td>...</td>\n",
       "      <td>...</td>\n",
       "      <td>...</td>\n",
       "      <td>...</td>\n",
       "      <td>...</td>\n",
       "      <td>...</td>\n",
       "      <td>...</td>\n",
       "      <td>...</td>\n",
       "      <td>...</td>\n",
       "      <td>...</td>\n",
       "      <td>...</td>\n",
       "    </tr>\n",
       "    <tr>\n",
       "      <th>2056</th>\n",
       "      <td>-0.110166</td>\n",
       "      <td>-0.011863</td>\n",
       "      <td>-0.004068</td>\n",
       "      <td>0.086486</td>\n",
       "      <td>-0.035746</td>\n",
       "      <td>0.011461</td>\n",
       "      <td>-0.081813</td>\n",
       "      <td>-0.003342</td>\n",
       "      <td>-0.130963</td>\n",
       "      <td>0.013224</td>\n",
       "      <td>...</td>\n",
       "      <td>0.049827</td>\n",
       "      <td>0.045623</td>\n",
       "      <td>0.060594</td>\n",
       "      <td>0.124644</td>\n",
       "      <td>0.013536</td>\n",
       "      <td>-0.091159</td>\n",
       "      <td>0.053215</td>\n",
       "      <td>0.078139</td>\n",
       "      <td>-0.094137</td>\n",
       "      <td>0.004227</td>\n",
       "    </tr>\n",
       "    <tr>\n",
       "      <th>34</th>\n",
       "      <td>0.092716</td>\n",
       "      <td>0.038658</td>\n",
       "      <td>-0.003373</td>\n",
       "      <td>0.035500</td>\n",
       "      <td>0.083109</td>\n",
       "      <td>0.059647</td>\n",
       "      <td>-0.034495</td>\n",
       "      <td>-0.031782</td>\n",
       "      <td>-0.009515</td>\n",
       "      <td>-0.106006</td>\n",
       "      <td>...</td>\n",
       "      <td>0.104496</td>\n",
       "      <td>0.026450</td>\n",
       "      <td>0.172365</td>\n",
       "      <td>-0.004233</td>\n",
       "      <td>-0.012799</td>\n",
       "      <td>0.093528</td>\n",
       "      <td>0.028084</td>\n",
       "      <td>0.026887</td>\n",
       "      <td>-0.058192</td>\n",
       "      <td>0.046516</td>\n",
       "    </tr>\n",
       "    <tr>\n",
       "      <th>3342</th>\n",
       "      <td>0.019909</td>\n",
       "      <td>0.043917</td>\n",
       "      <td>-0.003643</td>\n",
       "      <td>0.014961</td>\n",
       "      <td>-0.010762</td>\n",
       "      <td>0.020326</td>\n",
       "      <td>-0.091886</td>\n",
       "      <td>-0.024705</td>\n",
       "      <td>-0.027605</td>\n",
       "      <td>-0.081222</td>\n",
       "      <td>...</td>\n",
       "      <td>0.110548</td>\n",
       "      <td>-0.005937</td>\n",
       "      <td>0.216226</td>\n",
       "      <td>-0.022187</td>\n",
       "      <td>-0.013428</td>\n",
       "      <td>0.093304</td>\n",
       "      <td>-0.036564</td>\n",
       "      <td>0.016998</td>\n",
       "      <td>-0.071241</td>\n",
       "      <td>0.055810</td>\n",
       "    </tr>\n",
       "    <tr>\n",
       "      <th>501</th>\n",
       "      <td>0.051785</td>\n",
       "      <td>-0.115034</td>\n",
       "      <td>-0.002239</td>\n",
       "      <td>0.087138</td>\n",
       "      <td>0.170990</td>\n",
       "      <td>0.065750</td>\n",
       "      <td>0.101370</td>\n",
       "      <td>-0.104051</td>\n",
       "      <td>0.121640</td>\n",
       "      <td>0.081361</td>\n",
       "      <td>...</td>\n",
       "      <td>-0.010531</td>\n",
       "      <td>0.105640</td>\n",
       "      <td>0.025267</td>\n",
       "      <td>-0.056304</td>\n",
       "      <td>-0.019043</td>\n",
       "      <td>-0.116198</td>\n",
       "      <td>0.031163</td>\n",
       "      <td>0.146518</td>\n",
       "      <td>-0.150360</td>\n",
       "      <td>-0.054549</td>\n",
       "    </tr>\n",
       "    <tr>\n",
       "      <th>3850</th>\n",
       "      <td>-0.003725</td>\n",
       "      <td>0.091137</td>\n",
       "      <td>-0.002367</td>\n",
       "      <td>-0.044902</td>\n",
       "      <td>0.118430</td>\n",
       "      <td>0.052931</td>\n",
       "      <td>0.015403</td>\n",
       "      <td>-0.070843</td>\n",
       "      <td>-0.025019</td>\n",
       "      <td>0.101121</td>\n",
       "      <td>...</td>\n",
       "      <td>-0.023176</td>\n",
       "      <td>0.108532</td>\n",
       "      <td>0.041971</td>\n",
       "      <td>0.006575</td>\n",
       "      <td>-0.002802</td>\n",
       "      <td>-0.052204</td>\n",
       "      <td>0.007759</td>\n",
       "      <td>0.082931</td>\n",
       "      <td>-0.090684</td>\n",
       "      <td>0.010221</td>\n",
       "    </tr>\n",
       "  </tbody>\n",
       "</table>\n",
       "<p>3000 rows × 768 columns</p>\n",
       "</div>"
      ],
      "text/plain": [
       "      feature_1  feature_2  feature_3  feature_4  feature_5  feature_6  \\\n",
       "194   -0.014035   0.179398  -0.011840   0.048945   0.006982  -0.013823   \n",
       "3506   0.092196   0.030839  -0.008695  -0.012430   0.131235   0.048914   \n",
       "1529   0.059866   0.016058  -0.003352  -0.011466   0.025661  -0.033990   \n",
       "1612   0.020947  -0.095280  -0.003043   0.003219   0.051609   0.089707   \n",
       "264    0.010327   0.060305  -0.009822   0.042810   0.066558   0.064214   \n",
       "...         ...        ...        ...        ...        ...        ...   \n",
       "2056  -0.110166  -0.011863  -0.004068   0.086486  -0.035746   0.011461   \n",
       "34     0.092716   0.038658  -0.003373   0.035500   0.083109   0.059647   \n",
       "3342   0.019909   0.043917  -0.003643   0.014961  -0.010762   0.020326   \n",
       "501    0.051785  -0.115034  -0.002239   0.087138   0.170990   0.065750   \n",
       "3850  -0.003725   0.091137  -0.002367  -0.044902   0.118430   0.052931   \n",
       "\n",
       "      feature_7  feature_8  feature_9  feature_10  ...  feature_759  \\\n",
       "194    0.031506   0.036887  -0.131108   -0.061941  ...    -0.036472   \n",
       "3506   0.035387  -0.029484  -0.093771    0.013931  ...     0.022201   \n",
       "1529  -0.013853   0.041194  -0.000792    0.067506  ...     0.025490   \n",
       "1612   0.036236  -0.009965  -0.116091    0.055562  ...     0.091800   \n",
       "264   -0.056780   0.018200  -0.081322    0.048440  ...     0.045254   \n",
       "...         ...        ...        ...         ...  ...          ...   \n",
       "2056  -0.081813  -0.003342  -0.130963    0.013224  ...     0.049827   \n",
       "34    -0.034495  -0.031782  -0.009515   -0.106006  ...     0.104496   \n",
       "3342  -0.091886  -0.024705  -0.027605   -0.081222  ...     0.110548   \n",
       "501    0.101370  -0.104051   0.121640    0.081361  ...    -0.010531   \n",
       "3850   0.015403  -0.070843  -0.025019    0.101121  ...    -0.023176   \n",
       "\n",
       "      feature_760  feature_761  feature_762  feature_763  feature_764  \\\n",
       "194      0.093655    -0.072703     0.016496    -0.080624     0.052460   \n",
       "3506     0.013015    -0.002746    -0.045255     0.023561    -0.053819   \n",
       "1529     0.034141     0.053942    -0.050460     0.004883    -0.312909   \n",
       "1612     0.004487     0.164503    -0.043527    -0.052374     0.065043   \n",
       "264      0.016943     0.004782    -0.036502     0.034974    -0.169694   \n",
       "...           ...          ...          ...          ...          ...   \n",
       "2056     0.045623     0.060594     0.124644     0.013536    -0.091159   \n",
       "34       0.026450     0.172365    -0.004233    -0.012799     0.093528   \n",
       "3342    -0.005937     0.216226    -0.022187    -0.013428     0.093304   \n",
       "501      0.105640     0.025267    -0.056304    -0.019043    -0.116198   \n",
       "3850     0.108532     0.041971     0.006575    -0.002802    -0.052204   \n",
       "\n",
       "      feature_765  feature_766  feature_767  feature_768  \n",
       "194     -0.082012    -0.050068    -0.018877    -0.130399  \n",
       "3506    -0.047599     0.046181    -0.006222     0.010766  \n",
       "1529    -0.057032     0.129180    -0.166006    -0.013066  \n",
       "1612     0.022274     0.169554    -0.058855     0.051095  \n",
       "264      0.008886     0.082216     0.000078    -0.004175  \n",
       "...           ...          ...          ...          ...  \n",
       "2056     0.053215     0.078139    -0.094137     0.004227  \n",
       "34       0.028084     0.026887    -0.058192     0.046516  \n",
       "3342    -0.036564     0.016998    -0.071241     0.055810  \n",
       "501      0.031163     0.146518    -0.150360    -0.054549  \n",
       "3850     0.007759     0.082931    -0.090684     0.010221  \n",
       "\n",
       "[3000 rows x 768 columns]"
      ]
     },
     "execution_count": 33,
     "metadata": {},
     "output_type": "execute_result"
    }
   ],
   "source": [
    "X_train"
   ]
  },
  {
   "cell_type": "code",
   "execution_count": 34,
   "metadata": {},
   "outputs": [
    {
     "name": "stdout",
     "output_type": "stream",
     "text": [
      "[LightGBM] [Info] Auto-choosing col-wise multi-threading, the overhead of testing was 0.027846 seconds.\n",
      "You can set `force_col_wise=true` to remove the overhead.\n",
      "[LightGBM] [Info] Total Bins 195840\n",
      "[LightGBM] [Info] Number of data points in the train set: 3000, number of used features: 768\n",
      "[LightGBM] [Info] Start training from score -1.098612\n",
      "[LightGBM] [Info] Start training from score -1.098612\n",
      "[LightGBM] [Info] Start training from score -1.098612\n"
     ]
    }
   ],
   "source": [
    "import lightgbm as lgb\n",
    "\n",
    "model = lgb.LGBMClassifier(\n",
    "    n_estimators=200,\n",
    "    learning_rate=0.05,\n",
    "    random_state=42,\n",
    "    class_weight='balanced'\n",
    ")\n",
    "\n",
    "model.fit(X_train, y_train)\n",
    "\n",
    "predictions = model.predict(pd.DataFrame(X_test))"
   ]
  },
  {
   "cell_type": "markdown",
   "metadata": {},
   "source": [
    "# <font color='red'>4 - </font> Evaluation"
   ]
  },
  {
   "cell_type": "code",
   "execution_count": 35,
   "metadata": {},
   "outputs": [
    {
     "name": "stdout",
     "output_type": "stream",
     "text": [
      "F1 score is:  0.7522725575218479\n",
      "Accuracy score is:  0.753\n"
     ]
    }
   ],
   "source": [
    "from sklearn.metrics import f1_score, accuracy_score\n",
    "\n",
    "print(\"F1 score is: \", f1_score(y_test, predictions, average=\"weighted\"))\n",
    "print(\"Accuracy score is: \", accuracy_score(y_test, predictions))"
   ]
  },
  {
   "cell_type": "code",
   "execution_count": 160,
   "metadata": {},
   "outputs": [
    {
     "data": {
      "image/png": "[encoded data removed]",
      "text/plain": [
       "<Figure size 640x480 with 2 Axes>"
      ]
     },
     "metadata": {},
     "output_type": "display_data"
    }
   ],
   "source": [
    "from sklearn.metrics import confusion_matrix\n",
    "import seaborn as sns\n",
    "\n",
    "cm = confusion_matrix(y_test, predictions)\n",
    "classes = [\"low\", \"medium\", \"high\"]\n",
    "\n",
    "sns.heatmap(cm, annot=True, fmt='d', cmap='Blues', xticklabels=classes, yticklabels=classes)\n",
    "plt.xlabel('Predicted')\n",
    "plt.ylabel('Truth')\n",
    "plt.title('Confusion Matrix')\n",
    "plt.show()"
   ]
  },
  {
   "cell_type": "code",
   "execution_count": null,
   "metadata": {},
   "outputs": [],
   "source": []
  }
 ],
 "metadata": {
  "kernelspec": {
   "display_name": "ai_ticket_env",
   "language": "python",
   "name": "python3"
  },
  "language_info": {
   "codemirror_mode": {
    "name": "ipython",
    "version": 3
   },
   "file_extension": ".py",
   "mimetype": "text/x-python",
   "name": "python",
   "nbconvert_exporter": "python",
   "pygments_lexer": "ipython3",
   "version": "3.10.18"
  }
 },
 "nbformat": 4,
 "nbformat_minor": 2
}
